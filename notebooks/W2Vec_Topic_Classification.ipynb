{
  "nbformat": 4,
  "nbformat_minor": 0,
  "metadata": {
    "colab": {
      "provenance": [],
      "toc_visible": true
    },
    "kernelspec": {
      "name": "python3",
      "display_name": "Python 3"
    },
    "language_info": {
      "name": "python"
    }
  },
  "cells": [
    {
      "cell_type": "markdown",
      "source": [
        "# Required Files Installation"
      ],
      "metadata": {
        "id": "Dtp3fEto67RA"
      }
    },
    {
      "cell_type": "code",
      "execution_count": 1,
      "metadata": {
        "id": "LUl2C1fe6ew6",
        "colab": {
          "base_uri": "https://localhost:8080/"
        },
        "outputId": "91af86cc-19de-42fb-c1fa-0f62deda935b"
      },
      "outputs": [
        {
          "output_type": "stream",
          "name": "stdout",
          "text": [
            "Collecting streamlit (from -r requirements.txt (line 1))\n",
            "  Downloading streamlit-1.31.1-py2.py3-none-any.whl (8.4 MB)\n",
            "\u001b[2K     \u001b[90m━━━━━━━━━━━━━━━━━━━━━━━━━━━━━━━━━━━━━━━━\u001b[0m \u001b[32m8.4/8.4 MB\u001b[0m \u001b[31m18.2 MB/s\u001b[0m eta \u001b[36m0:00:00\u001b[0m\n",
            "\u001b[?25hRequirement already satisfied: matplotlib in /usr/local/lib/python3.10/dist-packages (from -r requirements.txt (line 2)) (3.7.1)\n",
            "Requirement already satisfied: numpy in /usr/local/lib/python3.10/dist-packages (from -r requirements.txt (line 3)) (1.25.2)\n",
            "Requirement already satisfied: scikit-learn in /usr/local/lib/python3.10/dist-packages (from -r requirements.txt (line 4)) (1.2.2)\n",
            "Requirement already satisfied: pandas in /usr/local/lib/python3.10/dist-packages (from -r requirements.txt (line 5)) (1.5.3)\n",
            "Collecting pyidaungsu (from -r requirements.txt (line 6))\n",
            "  Downloading pyidaungsu-0.1.4-py3-none-any.whl (5.5 MB)\n",
            "\u001b[2K     \u001b[90m━━━━━━━━━━━━━━━━━━━━━━━━━━━━━━━━━━━━━━━━\u001b[0m \u001b[32m5.5/5.5 MB\u001b[0m \u001b[31m29.9 MB/s\u001b[0m eta \u001b[36m0:00:00\u001b[0m\n",
            "\u001b[?25hRequirement already satisfied: altair<6,>=4.0 in /usr/local/lib/python3.10/dist-packages (from streamlit->-r requirements.txt (line 1)) (4.2.2)\n",
            "Requirement already satisfied: blinker<2,>=1.0.0 in /usr/lib/python3/dist-packages (from streamlit->-r requirements.txt (line 1)) (1.4)\n",
            "Requirement already satisfied: cachetools<6,>=4.0 in /usr/local/lib/python3.10/dist-packages (from streamlit->-r requirements.txt (line 1)) (5.3.3)\n",
            "Requirement already satisfied: click<9,>=7.0 in /usr/local/lib/python3.10/dist-packages (from streamlit->-r requirements.txt (line 1)) (8.1.7)\n",
            "Requirement already satisfied: importlib-metadata<8,>=1.4 in /usr/local/lib/python3.10/dist-packages (from streamlit->-r requirements.txt (line 1)) (7.0.1)\n",
            "Requirement already satisfied: packaging<24,>=16.8 in /usr/local/lib/python3.10/dist-packages (from streamlit->-r requirements.txt (line 1)) (23.2)\n",
            "Requirement already satisfied: pillow<11,>=7.1.0 in /usr/local/lib/python3.10/dist-packages (from streamlit->-r requirements.txt (line 1)) (9.4.0)\n",
            "Requirement already satisfied: protobuf<5,>=3.20 in /usr/local/lib/python3.10/dist-packages (from streamlit->-r requirements.txt (line 1)) (3.20.3)\n",
            "Requirement already satisfied: pyarrow>=7.0 in /usr/local/lib/python3.10/dist-packages (from streamlit->-r requirements.txt (line 1)) (14.0.2)\n",
            "Requirement already satisfied: python-dateutil<3,>=2.7.3 in /usr/local/lib/python3.10/dist-packages (from streamlit->-r requirements.txt (line 1)) (2.8.2)\n",
            "Requirement already satisfied: requests<3,>=2.27 in /usr/local/lib/python3.10/dist-packages (from streamlit->-r requirements.txt (line 1)) (2.31.0)\n",
            "Requirement already satisfied: rich<14,>=10.14.0 in /usr/local/lib/python3.10/dist-packages (from streamlit->-r requirements.txt (line 1)) (13.7.0)\n",
            "Requirement already satisfied: tenacity<9,>=8.1.0 in /usr/local/lib/python3.10/dist-packages (from streamlit->-r requirements.txt (line 1)) (8.2.3)\n",
            "Requirement already satisfied: toml<2,>=0.10.1 in /usr/local/lib/python3.10/dist-packages (from streamlit->-r requirements.txt (line 1)) (0.10.2)\n",
            "Requirement already satisfied: typing-extensions<5,>=4.3.0 in /usr/local/lib/python3.10/dist-packages (from streamlit->-r requirements.txt (line 1)) (4.10.0)\n",
            "Requirement already satisfied: tzlocal<6,>=1.1 in /usr/local/lib/python3.10/dist-packages (from streamlit->-r requirements.txt (line 1)) (5.2)\n",
            "Collecting validators<1,>=0.2 (from streamlit->-r requirements.txt (line 1))\n",
            "  Downloading validators-0.22.0-py3-none-any.whl (26 kB)\n",
            "Collecting gitpython!=3.1.19,<4,>=3.0.7 (from streamlit->-r requirements.txt (line 1))\n",
            "  Downloading GitPython-3.1.42-py3-none-any.whl (195 kB)\n",
            "\u001b[2K     \u001b[90m━━━━━━━━━━━━━━━━━━━━━━━━━━━━━━━━━━━━━━━━\u001b[0m \u001b[32m195.4/195.4 kB\u001b[0m \u001b[31m11.4 MB/s\u001b[0m eta \u001b[36m0:00:00\u001b[0m\n",
            "\u001b[?25hCollecting pydeck<1,>=0.8.0b4 (from streamlit->-r requirements.txt (line 1))\n",
            "  Downloading pydeck-0.8.1b0-py2.py3-none-any.whl (4.8 MB)\n",
            "\u001b[2K     \u001b[90m━━━━━━━━━━━━━━━━━━━━━━━━━━━━━━━━━━━━━━━━\u001b[0m \u001b[32m4.8/4.8 MB\u001b[0m \u001b[31m52.0 MB/s\u001b[0m eta \u001b[36m0:00:00\u001b[0m\n",
            "\u001b[?25hRequirement already satisfied: tornado<7,>=6.0.3 in /usr/local/lib/python3.10/dist-packages (from streamlit->-r requirements.txt (line 1)) (6.3.2)\n",
            "Collecting watchdog>=2.1.5 (from streamlit->-r requirements.txt (line 1))\n",
            "  Downloading watchdog-4.0.0-py3-none-manylinux2014_x86_64.whl (82 kB)\n",
            "\u001b[2K     \u001b[90m━━━━━━━━━━━━━━━━━━━━━━━━━━━━━━━━━━━━━━━━\u001b[0m \u001b[32m83.0/83.0 kB\u001b[0m \u001b[31m9.4 MB/s\u001b[0m eta \u001b[36m0:00:00\u001b[0m\n",
            "\u001b[?25hRequirement already satisfied: contourpy>=1.0.1 in /usr/local/lib/python3.10/dist-packages (from matplotlib->-r requirements.txt (line 2)) (1.2.0)\n",
            "Requirement already satisfied: cycler>=0.10 in /usr/local/lib/python3.10/dist-packages (from matplotlib->-r requirements.txt (line 2)) (0.12.1)\n",
            "Requirement already satisfied: fonttools>=4.22.0 in /usr/local/lib/python3.10/dist-packages (from matplotlib->-r requirements.txt (line 2)) (4.49.0)\n",
            "Requirement already satisfied: kiwisolver>=1.0.1 in /usr/local/lib/python3.10/dist-packages (from matplotlib->-r requirements.txt (line 2)) (1.4.5)\n",
            "Requirement already satisfied: pyparsing>=2.3.1 in /usr/local/lib/python3.10/dist-packages (from matplotlib->-r requirements.txt (line 2)) (3.1.1)\n",
            "Requirement already satisfied: scipy>=1.3.2 in /usr/local/lib/python3.10/dist-packages (from scikit-learn->-r requirements.txt (line 4)) (1.11.4)\n",
            "Requirement already satisfied: joblib>=1.1.1 in /usr/local/lib/python3.10/dist-packages (from scikit-learn->-r requirements.txt (line 4)) (1.3.2)\n",
            "Requirement already satisfied: threadpoolctl>=2.0.0 in /usr/local/lib/python3.10/dist-packages (from scikit-learn->-r requirements.txt (line 4)) (3.3.0)\n",
            "Requirement already satisfied: pytz>=2020.1 in /usr/local/lib/python3.10/dist-packages (from pandas->-r requirements.txt (line 5)) (2023.4)\n",
            "Collecting python-crfsuite (from pyidaungsu->-r requirements.txt (line 6))\n",
            "  Downloading python_crfsuite-0.9.10-cp310-cp310-manylinux_2_17_x86_64.manylinux2014_x86_64.whl (1.1 MB)\n",
            "\u001b[2K     \u001b[90m━━━━━━━━━━━━━━━━━━━━━━━━━━━━━━━━━━━━━━━━\u001b[0m \u001b[32m1.1/1.1 MB\u001b[0m \u001b[31m44.5 MB/s\u001b[0m eta \u001b[36m0:00:00\u001b[0m\n",
            "\u001b[?25hCollecting emoji (from pyidaungsu->-r requirements.txt (line 6))\n",
            "  Downloading emoji-2.10.1-py2.py3-none-any.whl (421 kB)\n",
            "\u001b[2K     \u001b[90m━━━━━━━━━━━━━━━━━━━━━━━━━━━━━━━━━━━━━━━━\u001b[0m \u001b[32m421.5/421.5 kB\u001b[0m \u001b[31m34.6 MB/s\u001b[0m eta \u001b[36m0:00:00\u001b[0m\n",
            "\u001b[?25hCollecting pybind11 (from pyidaungsu->-r requirements.txt (line 6))\n",
            "  Downloading pybind11-2.11.1-py3-none-any.whl (227 kB)\n",
            "\u001b[2K     \u001b[90m━━━━━━━━━━━━━━━━━━━━━━━━━━━━━━━━━━━━━━━━\u001b[0m \u001b[32m227.7/227.7 kB\u001b[0m \u001b[31m22.6 MB/s\u001b[0m eta \u001b[36m0:00:00\u001b[0m\n",
            "\u001b[?25hCollecting fasttext (from pyidaungsu->-r requirements.txt (line 6))\n",
            "  Downloading fasttext-0.9.2.tar.gz (68 kB)\n",
            "\u001b[2K     \u001b[90m━━━━━━━━━━━━━━━━━━━━━━━━━━━━━━━━━━━━━━━━\u001b[0m \u001b[32m68.8/68.8 kB\u001b[0m \u001b[31m9.3 MB/s\u001b[0m eta \u001b[36m0:00:00\u001b[0m\n",
            "\u001b[?25h  Preparing metadata (setup.py) ... \u001b[?25l\u001b[?25hdone\n",
            "Requirement already satisfied: entrypoints in /usr/local/lib/python3.10/dist-packages (from altair<6,>=4.0->streamlit->-r requirements.txt (line 1)) (0.4)\n",
            "Requirement already satisfied: jinja2 in /usr/local/lib/python3.10/dist-packages (from altair<6,>=4.0->streamlit->-r requirements.txt (line 1)) (3.1.3)\n",
            "Requirement already satisfied: jsonschema>=3.0 in /usr/local/lib/python3.10/dist-packages (from altair<6,>=4.0->streamlit->-r requirements.txt (line 1)) (4.19.2)\n",
            "Requirement already satisfied: toolz in /usr/local/lib/python3.10/dist-packages (from altair<6,>=4.0->streamlit->-r requirements.txt (line 1)) (0.12.1)\n",
            "Collecting gitdb<5,>=4.0.1 (from gitpython!=3.1.19,<4,>=3.0.7->streamlit->-r requirements.txt (line 1))\n",
            "  Downloading gitdb-4.0.11-py3-none-any.whl (62 kB)\n",
            "\u001b[2K     \u001b[90m━━━━━━━━━━━━━━━━━━━━━━━━━━━━━━━━━━━━━━━━\u001b[0m \u001b[32m62.7/62.7 kB\u001b[0m \u001b[31m5.6 MB/s\u001b[0m eta \u001b[36m0:00:00\u001b[0m\n",
            "\u001b[?25hRequirement already satisfied: zipp>=0.5 in /usr/local/lib/python3.10/dist-packages (from importlib-metadata<8,>=1.4->streamlit->-r requirements.txt (line 1)) (3.17.0)\n",
            "Requirement already satisfied: six>=1.5 in /usr/local/lib/python3.10/dist-packages (from python-dateutil<3,>=2.7.3->streamlit->-r requirements.txt (line 1)) (1.16.0)\n",
            "Requirement already satisfied: charset-normalizer<4,>=2 in /usr/local/lib/python3.10/dist-packages (from requests<3,>=2.27->streamlit->-r requirements.txt (line 1)) (3.3.2)\n",
            "Requirement already satisfied: idna<4,>=2.5 in /usr/local/lib/python3.10/dist-packages (from requests<3,>=2.27->streamlit->-r requirements.txt (line 1)) (3.6)\n",
            "Requirement already satisfied: urllib3<3,>=1.21.1 in /usr/local/lib/python3.10/dist-packages (from requests<3,>=2.27->streamlit->-r requirements.txt (line 1)) (2.0.7)\n",
            "Requirement already satisfied: certifi>=2017.4.17 in /usr/local/lib/python3.10/dist-packages (from requests<3,>=2.27->streamlit->-r requirements.txt (line 1)) (2024.2.2)\n",
            "Requirement already satisfied: markdown-it-py>=2.2.0 in /usr/local/lib/python3.10/dist-packages (from rich<14,>=10.14.0->streamlit->-r requirements.txt (line 1)) (3.0.0)\n",
            "Requirement already satisfied: pygments<3.0.0,>=2.13.0 in /usr/local/lib/python3.10/dist-packages (from rich<14,>=10.14.0->streamlit->-r requirements.txt (line 1)) (2.16.1)\n",
            "Requirement already satisfied: setuptools>=0.7.0 in /usr/local/lib/python3.10/dist-packages (from fasttext->pyidaungsu->-r requirements.txt (line 6)) (67.7.2)\n",
            "Collecting smmap<6,>=3.0.1 (from gitdb<5,>=4.0.1->gitpython!=3.1.19,<4,>=3.0.7->streamlit->-r requirements.txt (line 1))\n",
            "  Downloading smmap-5.0.1-py3-none-any.whl (24 kB)\n",
            "Requirement already satisfied: MarkupSafe>=2.0 in /usr/local/lib/python3.10/dist-packages (from jinja2->altair<6,>=4.0->streamlit->-r requirements.txt (line 1)) (2.1.5)\n",
            "Requirement already satisfied: attrs>=22.2.0 in /usr/local/lib/python3.10/dist-packages (from jsonschema>=3.0->altair<6,>=4.0->streamlit->-r requirements.txt (line 1)) (23.2.0)\n",
            "Requirement already satisfied: jsonschema-specifications>=2023.03.6 in /usr/local/lib/python3.10/dist-packages (from jsonschema>=3.0->altair<6,>=4.0->streamlit->-r requirements.txt (line 1)) (2023.12.1)\n",
            "Requirement already satisfied: referencing>=0.28.4 in /usr/local/lib/python3.10/dist-packages (from jsonschema>=3.0->altair<6,>=4.0->streamlit->-r requirements.txt (line 1)) (0.33.0)\n",
            "Requirement already satisfied: rpds-py>=0.7.1 in /usr/local/lib/python3.10/dist-packages (from jsonschema>=3.0->altair<6,>=4.0->streamlit->-r requirements.txt (line 1)) (0.18.0)\n",
            "Requirement already satisfied: mdurl~=0.1 in /usr/local/lib/python3.10/dist-packages (from markdown-it-py>=2.2.0->rich<14,>=10.14.0->streamlit->-r requirements.txt (line 1)) (0.1.2)\n",
            "Building wheels for collected packages: fasttext\n",
            "  Building wheel for fasttext (setup.py) ... \u001b[?25l\u001b[?25hdone\n",
            "  Created wheel for fasttext: filename=fasttext-0.9.2-cp310-cp310-linux_x86_64.whl size=4199774 sha256=15b9f37745b5ad1fdecf31978f30a1709c4cc662ad1ea3e226f1775356d8b298\n",
            "  Stored in directory: /root/.cache/pip/wheels/a5/13/75/f811c84a8ab36eedbaef977a6a58a98990e8e0f1967f98f394\n",
            "Successfully built fasttext\n",
            "Installing collected packages: python-crfsuite, watchdog, validators, smmap, pybind11, emoji, pydeck, gitdb, fasttext, pyidaungsu, gitpython, streamlit\n",
            "Successfully installed emoji-2.10.1 fasttext-0.9.2 gitdb-4.0.11 gitpython-3.1.42 pybind11-2.11.1 pydeck-0.8.1b0 pyidaungsu-0.1.4 python-crfsuite-0.9.10 smmap-5.0.1 streamlit-1.31.1 validators-0.22.0 watchdog-4.0.0\n",
            "Requirement already satisfied: gensim in /usr/local/lib/python3.10/dist-packages (4.3.2)\n",
            "Requirement already satisfied: numpy>=1.18.5 in /usr/local/lib/python3.10/dist-packages (from gensim) (1.25.2)\n",
            "Requirement already satisfied: scipy>=1.7.0 in /usr/local/lib/python3.10/dist-packages (from gensim) (1.11.4)\n",
            "Requirement already satisfied: smart-open>=1.8.1 in /usr/local/lib/python3.10/dist-packages (from gensim) (6.4.0)\n"
          ]
        }
      ],
      "source": [
        "!pip install -r requirements.txt\n",
        "!pip install gensim"
      ]
    },
    {
      "cell_type": "code",
      "source": [
        "import pandas as pd\n",
        "import numpy as np\n",
        "from matplotlib import pyplot as plt\n",
        "from gensim.models import Word2Vec\n",
        "#from sklearn.feature_extraction.text import TfidfVectorizer\n",
        "from sklearn.model_selection import train_test_split"
      ],
      "metadata": {
        "id": "AKeVxvDj6wKl"
      },
      "execution_count": 2,
      "outputs": []
    },
    {
      "cell_type": "markdown",
      "source": [
        "# Uploading Datset"
      ],
      "metadata": {
        "id": "vzWwPVDN7DqU"
      }
    },
    {
      "cell_type": "code",
      "source": [
        "dataset = \"articles.csv\"\n",
        "data = pd.read_csv(dataset)\n",
        "data.head()"
      ],
      "metadata": {
        "colab": {
          "base_uri": "https://localhost:8080/",
          "height": 206
        },
        "id": "A-sKIz3Q61iX",
        "outputId": "eeb129b6-ab45-49fd-fc7f-535c0e3d858d"
      },
      "execution_count": 3,
      "outputs": [
        {
          "output_type": "execute_result",
          "data": {
            "text/plain": [
              "   Index                                               News  Category  \\\n",
              "0      1  တီကျစ်ကျောက် မီးသွေးဓာတ်အားပေး စက်ရုံကို သက်တမ...  business   \n",
              "1      2  ရန်ကုန်တိုင်းအစိုးရ အစီအစဉ်ဖြင့် ရောင်းချမည့် ...  business   \n",
              "2      3  ရန်ကုန်မြို့သစ်စီမံကိန်း အတွက် လမ်းကြောင်းကွန်...  business   \n",
              "3      4  ပြည်တွင်း စက်သုံးဆီဈေး ရက်ပိုင်းအတွင်း ပြန်လည်...  business   \n",
              "4      5  ကချင်ပြည်နယ် မြစ် ကြီးနားနှင့် ချီဖွေမြို့အတွက...  business   \n",
              "\n",
              "   category_id  \n",
              "0            0  \n",
              "1            0  \n",
              "2            0  \n",
              "3            0  \n",
              "4            0  "
            ],
            "text/html": [
              "\n",
              "  <div id=\"df-3a2b8f66-cf26-46fe-b568-87f8fae4da62\" class=\"colab-df-container\">\n",
              "    <div>\n",
              "<style scoped>\n",
              "    .dataframe tbody tr th:only-of-type {\n",
              "        vertical-align: middle;\n",
              "    }\n",
              "\n",
              "    .dataframe tbody tr th {\n",
              "        vertical-align: top;\n",
              "    }\n",
              "\n",
              "    .dataframe thead th {\n",
              "        text-align: right;\n",
              "    }\n",
              "</style>\n",
              "<table border=\"1\" class=\"dataframe\">\n",
              "  <thead>\n",
              "    <tr style=\"text-align: right;\">\n",
              "      <th></th>\n",
              "      <th>Index</th>\n",
              "      <th>News</th>\n",
              "      <th>Category</th>\n",
              "      <th>category_id</th>\n",
              "    </tr>\n",
              "  </thead>\n",
              "  <tbody>\n",
              "    <tr>\n",
              "      <th>0</th>\n",
              "      <td>1</td>\n",
              "      <td>တီကျစ်ကျောက် မီးသွေးဓာတ်အားပေး စက်ရုံကို သက်တမ...</td>\n",
              "      <td>business</td>\n",
              "      <td>0</td>\n",
              "    </tr>\n",
              "    <tr>\n",
              "      <th>1</th>\n",
              "      <td>2</td>\n",
              "      <td>ရန်ကုန်တိုင်းအစိုးရ အစီအစဉ်ဖြင့် ရောင်းချမည့် ...</td>\n",
              "      <td>business</td>\n",
              "      <td>0</td>\n",
              "    </tr>\n",
              "    <tr>\n",
              "      <th>2</th>\n",
              "      <td>3</td>\n",
              "      <td>ရန်ကုန်မြို့သစ်စီမံကိန်း အတွက် လမ်းကြောင်းကွန်...</td>\n",
              "      <td>business</td>\n",
              "      <td>0</td>\n",
              "    </tr>\n",
              "    <tr>\n",
              "      <th>3</th>\n",
              "      <td>4</td>\n",
              "      <td>ပြည်တွင်း စက်သုံးဆီဈေး ရက်ပိုင်းအတွင်း ပြန်လည်...</td>\n",
              "      <td>business</td>\n",
              "      <td>0</td>\n",
              "    </tr>\n",
              "    <tr>\n",
              "      <th>4</th>\n",
              "      <td>5</td>\n",
              "      <td>ကချင်ပြည်နယ် မြစ် ကြီးနားနှင့် ချီဖွေမြို့အတွက...</td>\n",
              "      <td>business</td>\n",
              "      <td>0</td>\n",
              "    </tr>\n",
              "  </tbody>\n",
              "</table>\n",
              "</div>\n",
              "    <div class=\"colab-df-buttons\">\n",
              "\n",
              "  <div class=\"colab-df-container\">\n",
              "    <button class=\"colab-df-convert\" onclick=\"convertToInteractive('df-3a2b8f66-cf26-46fe-b568-87f8fae4da62')\"\n",
              "            title=\"Convert this dataframe to an interactive table.\"\n",
              "            style=\"display:none;\">\n",
              "\n",
              "  <svg xmlns=\"http://www.w3.org/2000/svg\" height=\"24px\" viewBox=\"0 -960 960 960\">\n",
              "    <path d=\"M120-120v-720h720v720H120Zm60-500h600v-160H180v160Zm220 220h160v-160H400v160Zm0 220h160v-160H400v160ZM180-400h160v-160H180v160Zm440 0h160v-160H620v160ZM180-180h160v-160H180v160Zm440 0h160v-160H620v160Z\"/>\n",
              "  </svg>\n",
              "    </button>\n",
              "\n",
              "  <style>\n",
              "    .colab-df-container {\n",
              "      display:flex;\n",
              "      gap: 12px;\n",
              "    }\n",
              "\n",
              "    .colab-df-convert {\n",
              "      background-color: #E8F0FE;\n",
              "      border: none;\n",
              "      border-radius: 50%;\n",
              "      cursor: pointer;\n",
              "      display: none;\n",
              "      fill: #1967D2;\n",
              "      height: 32px;\n",
              "      padding: 0 0 0 0;\n",
              "      width: 32px;\n",
              "    }\n",
              "\n",
              "    .colab-df-convert:hover {\n",
              "      background-color: #E2EBFA;\n",
              "      box-shadow: 0px 1px 2px rgba(60, 64, 67, 0.3), 0px 1px 3px 1px rgba(60, 64, 67, 0.15);\n",
              "      fill: #174EA6;\n",
              "    }\n",
              "\n",
              "    .colab-df-buttons div {\n",
              "      margin-bottom: 4px;\n",
              "    }\n",
              "\n",
              "    [theme=dark] .colab-df-convert {\n",
              "      background-color: #3B4455;\n",
              "      fill: #D2E3FC;\n",
              "    }\n",
              "\n",
              "    [theme=dark] .colab-df-convert:hover {\n",
              "      background-color: #434B5C;\n",
              "      box-shadow: 0px 1px 3px 1px rgba(0, 0, 0, 0.15);\n",
              "      filter: drop-shadow(0px 1px 2px rgba(0, 0, 0, 0.3));\n",
              "      fill: #FFFFFF;\n",
              "    }\n",
              "  </style>\n",
              "\n",
              "    <script>\n",
              "      const buttonEl =\n",
              "        document.querySelector('#df-3a2b8f66-cf26-46fe-b568-87f8fae4da62 button.colab-df-convert');\n",
              "      buttonEl.style.display =\n",
              "        google.colab.kernel.accessAllowed ? 'block' : 'none';\n",
              "\n",
              "      async function convertToInteractive(key) {\n",
              "        const element = document.querySelector('#df-3a2b8f66-cf26-46fe-b568-87f8fae4da62');\n",
              "        const dataTable =\n",
              "          await google.colab.kernel.invokeFunction('convertToInteractive',\n",
              "                                                    [key], {});\n",
              "        if (!dataTable) return;\n",
              "\n",
              "        const docLinkHtml = 'Like what you see? Visit the ' +\n",
              "          '<a target=\"_blank\" href=https://colab.research.google.com/notebooks/data_table.ipynb>data table notebook</a>'\n",
              "          + ' to learn more about interactive tables.';\n",
              "        element.innerHTML = '';\n",
              "        dataTable['output_type'] = 'display_data';\n",
              "        await google.colab.output.renderOutput(dataTable, element);\n",
              "        const docLink = document.createElement('div');\n",
              "        docLink.innerHTML = docLinkHtml;\n",
              "        element.appendChild(docLink);\n",
              "      }\n",
              "    </script>\n",
              "  </div>\n",
              "\n",
              "\n",
              "<div id=\"df-69c2abf3-bf56-4e4e-bb93-66f571b29824\">\n",
              "  <button class=\"colab-df-quickchart\" onclick=\"quickchart('df-69c2abf3-bf56-4e4e-bb93-66f571b29824')\"\n",
              "            title=\"Suggest charts\"\n",
              "            style=\"display:none;\">\n",
              "\n",
              "<svg xmlns=\"http://www.w3.org/2000/svg\" height=\"24px\"viewBox=\"0 0 24 24\"\n",
              "     width=\"24px\">\n",
              "    <g>\n",
              "        <path d=\"M19 3H5c-1.1 0-2 .9-2 2v14c0 1.1.9 2 2 2h14c1.1 0 2-.9 2-2V5c0-1.1-.9-2-2-2zM9 17H7v-7h2v7zm4 0h-2V7h2v10zm4 0h-2v-4h2v4z\"/>\n",
              "    </g>\n",
              "</svg>\n",
              "  </button>\n",
              "\n",
              "<style>\n",
              "  .colab-df-quickchart {\n",
              "      --bg-color: #E8F0FE;\n",
              "      --fill-color: #1967D2;\n",
              "      --hover-bg-color: #E2EBFA;\n",
              "      --hover-fill-color: #174EA6;\n",
              "      --disabled-fill-color: #AAA;\n",
              "      --disabled-bg-color: #DDD;\n",
              "  }\n",
              "\n",
              "  [theme=dark] .colab-df-quickchart {\n",
              "      --bg-color: #3B4455;\n",
              "      --fill-color: #D2E3FC;\n",
              "      --hover-bg-color: #434B5C;\n",
              "      --hover-fill-color: #FFFFFF;\n",
              "      --disabled-bg-color: #3B4455;\n",
              "      --disabled-fill-color: #666;\n",
              "  }\n",
              "\n",
              "  .colab-df-quickchart {\n",
              "    background-color: var(--bg-color);\n",
              "    border: none;\n",
              "    border-radius: 50%;\n",
              "    cursor: pointer;\n",
              "    display: none;\n",
              "    fill: var(--fill-color);\n",
              "    height: 32px;\n",
              "    padding: 0;\n",
              "    width: 32px;\n",
              "  }\n",
              "\n",
              "  .colab-df-quickchart:hover {\n",
              "    background-color: var(--hover-bg-color);\n",
              "    box-shadow: 0 1px 2px rgba(60, 64, 67, 0.3), 0 1px 3px 1px rgba(60, 64, 67, 0.15);\n",
              "    fill: var(--button-hover-fill-color);\n",
              "  }\n",
              "\n",
              "  .colab-df-quickchart-complete:disabled,\n",
              "  .colab-df-quickchart-complete:disabled:hover {\n",
              "    background-color: var(--disabled-bg-color);\n",
              "    fill: var(--disabled-fill-color);\n",
              "    box-shadow: none;\n",
              "  }\n",
              "\n",
              "  .colab-df-spinner {\n",
              "    border: 2px solid var(--fill-color);\n",
              "    border-color: transparent;\n",
              "    border-bottom-color: var(--fill-color);\n",
              "    animation:\n",
              "      spin 1s steps(1) infinite;\n",
              "  }\n",
              "\n",
              "  @keyframes spin {\n",
              "    0% {\n",
              "      border-color: transparent;\n",
              "      border-bottom-color: var(--fill-color);\n",
              "      border-left-color: var(--fill-color);\n",
              "    }\n",
              "    20% {\n",
              "      border-color: transparent;\n",
              "      border-left-color: var(--fill-color);\n",
              "      border-top-color: var(--fill-color);\n",
              "    }\n",
              "    30% {\n",
              "      border-color: transparent;\n",
              "      border-left-color: var(--fill-color);\n",
              "      border-top-color: var(--fill-color);\n",
              "      border-right-color: var(--fill-color);\n",
              "    }\n",
              "    40% {\n",
              "      border-color: transparent;\n",
              "      border-right-color: var(--fill-color);\n",
              "      border-top-color: var(--fill-color);\n",
              "    }\n",
              "    60% {\n",
              "      border-color: transparent;\n",
              "      border-right-color: var(--fill-color);\n",
              "    }\n",
              "    80% {\n",
              "      border-color: transparent;\n",
              "      border-right-color: var(--fill-color);\n",
              "      border-bottom-color: var(--fill-color);\n",
              "    }\n",
              "    90% {\n",
              "      border-color: transparent;\n",
              "      border-bottom-color: var(--fill-color);\n",
              "    }\n",
              "  }\n",
              "</style>\n",
              "\n",
              "  <script>\n",
              "    async function quickchart(key) {\n",
              "      const quickchartButtonEl =\n",
              "        document.querySelector('#' + key + ' button');\n",
              "      quickchartButtonEl.disabled = true;  // To prevent multiple clicks.\n",
              "      quickchartButtonEl.classList.add('colab-df-spinner');\n",
              "      try {\n",
              "        const charts = await google.colab.kernel.invokeFunction(\n",
              "            'suggestCharts', [key], {});\n",
              "      } catch (error) {\n",
              "        console.error('Error during call to suggestCharts:', error);\n",
              "      }\n",
              "      quickchartButtonEl.classList.remove('colab-df-spinner');\n",
              "      quickchartButtonEl.classList.add('colab-df-quickchart-complete');\n",
              "    }\n",
              "    (() => {\n",
              "      let quickchartButtonEl =\n",
              "        document.querySelector('#df-69c2abf3-bf56-4e4e-bb93-66f571b29824 button');\n",
              "      quickchartButtonEl.style.display =\n",
              "        google.colab.kernel.accessAllowed ? 'block' : 'none';\n",
              "    })();\n",
              "  </script>\n",
              "</div>\n",
              "    </div>\n",
              "  </div>\n"
            ],
            "application/vnd.google.colaboratory.intrinsic+json": {
              "type": "dataframe",
              "variable_name": "data",
              "summary": "{\n  \"name\": \"data\",\n  \"rows\": 720,\n  \"fields\": [\n    {\n      \"column\": \"Index\",\n      \"properties\": {\n        \"dtype\": \"number\",\n        \"std\": 207,\n        \"min\": 1,\n        \"max\": 720,\n        \"num_unique_values\": 720,\n        \"samples\": [\n          341,\n          291,\n          55\n        ],\n        \"semantic_type\": \"\",\n        \"description\": \"\"\n      }\n    },\n    {\n      \"column\": \"News\",\n      \"properties\": {\n        \"dtype\": \"string\",\n        \"num_unique_values\": 716,\n        \"samples\": [\n          \"\\u101b\\u1014\\u103a\\u1000\\u102f\\u1014\\u103a\\u1019\\u103c\\u102d\\u102f\\u1037 \\u101b\\u103d\\u103e\\u1031\\u1015\\u103c\\u100a\\u103a \\u101e\\u102c\\u1019\\u103c\\u102d\\u102f\\u1037\\u1014\\u101a\\u103a\\u101b\\u103e\\u102d \\u1021\\u1014\\u103e\\u102d\\u1015\\u103a\\u1001\\u1014\\u103a\\u1038\\u1010\\u1005\\u103a\\u1001\\u102f \\u1010\\u103d\\u1004\\u103a\\u101b\\u103d\\u103e\\u1031\\u1015\\u103c\\u100a\\u103a\\u101e\\u102c\\u1019\\u103c\\u102d\\u102f\\u1037\\u1014\\u101a\\u103a\\u1019\\u103e \\u1021 \\u101c\\u102f\\u1015\\u103a\\u101c\\u102f\\u1015\\u103a\\u1000\\u102d\\u102f\\u1004\\u103a\\u101e\\u100a\\u1037\\u103a \\u1019\\u102d\\u1014\\u103a\\u1038\\u1000\\u101c\\u1031\\u1038 \\u1014\\u103e\\u1005\\u103a\\u1025\\u102e\\u1038\\u1000\\u102d\\u102f \\u101c\\u1000\\u103a\\u1011\\u1015\\u103a\\u1015\\u1031\\u102b\\u1004\\u103a\\u1038\\u101e\\u1004\\u103a\\u1038 \\u1019\\u100a\\u103a\\u101f\\u102f \\u1021\\u101a\\u102f\\u1036\\u101e\\u103d\\u1004\\u103a\\u1038\\u104d \\u1001\\u103b\\u1005\\u103a\\u1000\\u103c\\u102d\\u102f\\u1000\\u103a \\u101f\\u1014\\u103a\\u1006\\u1031\\u102c\\u1004\\u103a\\u1000\\u102c \\u1010\\u101b\\u102f\\u1010\\u103a\\u1007\\u1014\\u102e\\u1038\\u1019 \\u101a\\u102c\\u1038\\u1021\\u1016\\u103c\\u1005\\u103a\\u101b\\u1031\\u102c\\u1004\\u103a\\u1038\\u1005\\u102c\\u1038\\u1001\\u1032\\u1037\\u101e\\u100a\\u1037\\u103a \\u100a\\u102e \\u1021\\u1005\\u103a\\u1000\\u102d\\u102f\\u1014\\u103e\\u1005\\u103a\\u1025\\u102e\\u1038\\u1000\\u102d\\u102f \\u101b\\u1032\\u1010\\u1015\\u103a\\u1016\\u103d\\u1032\\u1037\\u1000\\u1021\\u1019\\u103e\\u102f \\u1016\\u103d\\u1004\\u1037\\u103a\\u1005\\u102f\\u1036\\u1005\\u1019\\u103a\\u1038\\u1014\\u1031\\u1000\\u103c\\u1031\\u102c\\u1004\\u103a\\u1038 \\u1019\\u103c\\u1014\\u103a\\u1019\\u102c\\u1014\\u102d\\u102f\\u1004\\u103a\\u1004\\u1036 \\u101b\\u1032\\u1010\\u1015\\u103a\\u1016\\u103d\\u1032\\u1037\\u1000 \\u101e\\u1010\\u1004\\u103a\\u1038\\u1011\\u102f\\u1010\\u103a\\u1015\\u103c\\u1014\\u103a \\u101e\\u100a\\u103a\\u104b \\u101b\\u103d\\u103e\\u1031\\u1015\\u103c\\u100a\\u103a\\u101e\\u102c\\u1019\\u103c\\u102d\\u102f\\u1037\\u1014\\u101a\\u103a\\u101b\\u103e\\u102d \\u1021\\u1014\\u103e\\u102d\\u1015\\u103a \\u1001\\u1014\\u103a\\u1038\\u1010\\u1005\\u103a\\u1001\\u102f\\u1010\\u103d\\u1004\\u103a \\u1021\\u101c\\u102f\\u1015\\u103a\\u101c\\u102f\\u1015\\u103a\\u1000\\u102d\\u102f\\u1004\\u103a \\u101e\\u100a\\u1037\\u103a \\u1021\\u101e\\u1000\\u103a (\\u1041\\u1047)\\u1014\\u103e\\u1005\\u103a \\u1014\\u103e\\u1004\\u1037\\u103a (\\u1042\\u1045)\\u1014\\u103e\\u1005\\u103a\\u1021\\u101b\\u103d\\u101a\\u103a \\u1019\\u102d\\u1014\\u103a\\u1038\\u1000\\u101c\\u1031\\u1038\\u1014\\u103e\\u1005\\u103a \\u1025\\u102e\\u1038\\u101e\\u100a\\u103a \\u1027\\u1015\\u103c\\u102e\\u1021\\u1010\\u103d\\u1004\\u103a\\u1038\\u1000 \\u1006\\u102d\\u102f\\u1004\\u103a\\u101b\\u103e\\u1004\\u103a \\u1011\\u1036\\u1001\\u103d\\u1004\\u1037\\u103a\\u1010\\u1031\\u102c\\u1004\\u103a\\u1038\\u104d \\u1010\\u103d\\u1036\\u1010\\u1031\\u1038\\u1019\\u103c\\u102d\\u102f\\u1037\\u101b\\u103e\\u102d\\u1019\\u102d\\u1018 \\u1019\\u103b\\u102c\\u1038\\u1014\\u1031\\u1021\\u102d\\u1019\\u103a\\u101e\\u102d\\u102f\\u1037\\u1015\\u103c\\u1014\\u103a\\u1005\\u1009\\u103a \\u1021\\u1014\\u103e\\u102d\\u1015\\u103a\\u1001\\u1014\\u103a\\u1038 \\u1010\\u103d\\u1004\\u103a\\u101e\\u102d\\u1000\\u103b\\u103d\\u1019\\u103a\\u1038\\u1001\\u1032\\u1037\\u101e\\u100a\\u1037\\u103a \\u101c\\u103e\\u102d\\u102f\\u1004\\u103a\\u101e\\u102c\\u101a\\u102c \\u1019\\u103c\\u102d\\u102f\\u1037\\u1014\\u101a\\u103a\\u1014\\u1031 \\u100a\\u102e\\u1021\\u1005\\u103a\\u1000\\u102d\\u102f\\u1014\\u103e\\u1005\\u103a\\u1025\\u102e\\u1038\\u1014\\u103e\\u1004\\u1037\\u103a \\u1010\\u103d\\u1031\\u1037\\u1006\\u102f\\u1036\\u1001\\u1032\\u1037\\u1000\\u103c\\u1031\\u102c\\u1004\\u103a\\u1038\\u104a \\u1021\\u1006\\u102d\\u102f\\u1015\\u102b\\u100a\\u102e \\u1021\\u1005\\u103a\\u1000\\u102d\\u102f\\u1014\\u103e\\u1005\\u103a\\u1025\\u102e\\u1038\\u1000 \\u1019\\u102d\\u1014\\u103a\\u1038\\u1000\\u101c\\u1031\\u1038\\u104f \\u1019\\u102d\\u1018\\u1019\\u103b\\u102c\\u1038\\u1014\\u1031\\u1021\\u102d\\u1019\\u103a\\u101e\\u102d\\u102f\\u1037 \\u1021\\u1004\\u103e\\u102c\\u1038\\u101a\\u102c\\u1009\\u103a \\u1016\\u103c\\u1004\\u1037\\u103a\\u101c\\u102d\\u102f\\u1000\\u103a\\u1015\\u102d\\u102f\\u1037\\u1015\\u1031\\u1038\\u1001\\u1032\\u1037\\u1015\\u103c\\u102e\\u1038 \\u101b\\u1014\\u103a\\u1000\\u102f\\u1014\\u103a\\u101e\\u102d\\u102f\\u1037 \\u1015\\u103c\\u1014\\u103a\\u1021\\u101c\\u102c\\u1010\\u103d\\u1004\\u103a \\u1001\\u103b\\u1005\\u103a\\u1000\\u103c\\u102d\\u102f\\u1000\\u103a\\u1000\\u103c\\u1031\\u102c\\u1004\\u103a\\u1038 \\u1014\\u103e\\u1004\\u1037\\u103a \\u101c\\u1000\\u103a\\u1011\\u1015\\u103a\\u1015\\u1031\\u102b\\u1004\\u103a\\u1038\\u101e\\u1004\\u103a\\u1038\\u101c\\u102d\\u102f \\u1000\\u103c\\u1031\\u102c\\u1004\\u103a\\u1038\\u1015\\u103c\\u1031\\u102c\\u1006\\u102d\\u102f\\u101b\\u102c \\u1019\\u102d\\u1014\\u103a\\u1038\\u1000\\u101c\\u1031\\u1038 \\u1014\\u103e\\u1005\\u103a\\u1025\\u102e\\u1038\\u1000 \\u101c\\u1000\\u103a\\u1001\\u1036\\u1001\\u1032\\u1037\\u1015\\u103c\\u102e\\u1038\\u1014\\u1031\\u102c\\u1000\\u103a \\u1019\\u1014\\u1039\\u1010\\u101c\\u1031\\u1038\\u1019\\u103c\\u102d\\u102f\\u1037\\u101e\\u102d\\u102f\\u1037 \\u1001\\u1031\\u102b\\u103a\\u101e\\u103d\\u102c\\u1038\\u1000\\u102c\\u1007\\u1014\\u102e\\u1038 \\u1019\\u101a\\u102c\\u1038\\u1021\\u1016\\u103c\\u1005\\u103a \\u1015\\u1031\\u102b\\u1004\\u103a\\u1038\\u101e\\u1004\\u103a\\u1038\\u1014\\u1031\\u1011\\u102d\\u102f\\u1004\\u103a \\u1001\\u1032\\u1037\\u1000\\u103c\\u101e\\u100a\\u103a\\u104b \\u1019\\u1014\\u1039\\u1010\\u101c\\u1031\\u1038\\u1019\\u103c\\u102d\\u102f\\u1037\\u101b\\u103e\\u102d\\u1010\\u100a\\u103a\\u1038\\u1001\\u102d\\u102f\\u1001\\u1014\\u103a\\u1038 \\u1010\\u1005\\u103a\\u1001\\u102f\\u1010\\u103d\\u1004\\u103a \\u1010\\u100a\\u103a\\u1038\\u1001\\u102d\\u102f\\u1014\\u1031\\u1005\\u1009\\u103a\\u100a\\u102e\\u1021\\u1005\\u103a \\u1000\\u102d\\u102f\\u1014\\u103e\\u1005\\u103a\\u1025\\u102e\\u1038\\u1000 \\u1019\\u102d\\u1014\\u103a\\u1000\\u101c\\u1031\\u1038\\u1014\\u103e\\u1005\\u103a\\u1025\\u102e\\u1038\\u1000\\u102d\\u102f \\u1019\\u1030 \\u1006\\u101a\\u103a\\u1019\\u103c\\u102d\\u102f\\u1037\\u1019\\u103e\\u1010\\u1005\\u103a\\u1006\\u1004\\u1037\\u103a \\u1010\\u101b\\u102f\\u1010\\u103a\\u1014\\u102d\\u102f\\u1004\\u103a\\u1004\\u1036 \\u1021\\u1010\\u103d\\u1004\\u103a\\u1038\\u101e\\u102d\\u102f\\u1037\\u1001\\u1031\\u102b\\u103a\\u1006\\u1031\\u102c\\u1004\\u103a\\u1000\\u102c\\u1010\\u101b\\u102f\\u1010\\u103a \\u1021\\u1019\\u103b\\u102d\\u102f\\u1038\\u101e\\u102c\\u1038\\u1014\\u103e\\u1004\\u1037\\u103a \\u101c\\u1000\\u103a\\u1011\\u1015\\u103a\\u101b\\u1014\\u103a \\u101a\\u103d\\u1019\\u103a \\u1004\\u103d\\u1031 \\u1014\\u103e\\u1005\\u103a\\u101e\\u102d\\u1014\\u103a\\u1038\\u1001\\u103d\\u1032\\u1016\\u103c\\u1004\\u1037\\u103a\\u101b\\u1031\\u102c\\u1004\\u103a\\u1038\\u1000\\u102c\\u1015\\u103c\\u1014\\u103a \\u101e\\u103d\\u102c\\u1038\\u1001\\u1032\\u1037\\u101e\\u100a\\u103a\\u101f\\u102f \\u1006\\u102d\\u102f\\u101e\\u100a\\u103a\\u104b \\u1019\\u102d\\u1014\\u103a\\u1038\\u1000\\u101c\\u1031\\u1038\\u1014\\u103e\\u1005\\u103a\\u1025\\u102e\\u1038\\u101e\\u100a\\u103a \\u1010\\u101b\\u102f\\u1010\\u103a\\u1014\\u102d\\u102f\\u1004\\u103a\\u1004\\u1036\\u1021\\u1010\\u103d\\u1004\\u103a\\u1038 \\u1042\\u101c\\u1001\\u1014\\u1037\\u103a \\u1014\\u1031\\u1011\\u102d\\u102f\\u1004\\u103a\\u1014\\u1031\\u1005\\u1009\\u103a \\u1021\\u1014\\u102e\\u1038\\u101b\\u103e\\u102d\\u1016\\u102f\\u1014\\u103a\\u1038\\u1006\\u102d\\u102f\\u1004\\u103a \\u1010\\u1005\\u103a\\u1001\\u102f\\u1011\\u1036 \\u1021\\u1000\\u1030\\u1021\\u100a\\u102e\\u1010\\u1031\\u102c\\u1004\\u103a\\u1038\\u104d \\u1010\\u101b\\u102f\\u1010\\u103a\\u101b\\u1032\\u1019\\u103b\\u102c\\u1038\\u104f \\u1021\\u1000\\u1030\\u1021\\u100a\\u102e\\u1016\\u103c\\u1004\\u1037\\u103a \\u1019\\u102d\\u101e\\u102c\\u1038\\u1005\\u102f\\u1014\\u103e\\u1004\\u1037\\u103a \\u1021\\u1006\\u1000\\u103a\\u101e\\u103d\\u101a\\u103a\\u101b\\u1000\\u102c \\u1019\\u103c\\u1014\\u103a\\u1019\\u102c\\u1014\\u102d\\u102f\\u1004\\u103a\\u1004\\u1036\\u101e\\u102d\\u102f\\u1037 \\u1015\\u103c\\u1014\\u103a\\u101c\\u100a\\u103a\\u101b\\u1031\\u102c\\u1000\\u103a\\u101b\\u103e\\u102d\\u101c\\u102c\\u101e\\u100a\\u103a\\u104b \\u1010\\u101b\\u102f\\u1010\\u103a\\u1007\\u1014\\u102e\\u1038\\u1019\\u101a\\u102c\\u1038\\u1021\\u1016\\u103c\\u1005\\u103a \\u101b\\u1031\\u102c\\u1004\\u103a\\u1038\\u1005\\u102c\\u1038\\u1001\\u1032\\u1037\\u101e\\u100a\\u1037\\u103a \\u100a\\u102e\\u1021\\u1005\\u103a\\u1000\\u102d\\u102f\\u1014\\u103e\\u1005\\u103a\\u1025\\u102e\\u1038\\u1000\\u102d\\u102f \\u1010\\u103d\\u1036\\u1010\\u1031\\u1038\\u1019\\u103c\\u102d\\u102f\\u1037\\u1019\\u101b\\u1032\\u1005\\u1001\\u1014\\u103a\\u1038\\u1010\\u103d\\u1004\\u103a \\u101c\\u1030\\u1000\\u102f\\u1014\\u103a\\u1010\\u102c\\u1038\\u1015\\u102f\\u1012\\u103a\\u1019 \\u1042\\u1044/\\u1043\\u1042 \\u1016\\u103c\\u1004\\u1037\\u103a \\u1021\\u1019\\u103e\\u102f\\u1016\\u103d\\u1004\\u1037\\u103a\\u1015\\u103c\\u102e\\u1038 \\u1016\\u1019\\u103a\\u1038\\u1006\\u102e\\u1038\\u1021\\u101b\\u1031\\u1038\\u101a\\u1030\\u1014\\u102d\\u102f\\u1004\\u103a\\u101b\\u1014\\u103a \\u1005\\u102f\\u1036\\u1005\\u1019\\u103a\\u1038\\u1014\\u1031\\u1000\\u103c\\u1031\\u102c\\u1004\\u103a\\u1038 \\u1011\\u102f\\u1010\\u103a\\u1015\\u103c\\u1014\\u103a\\u1001\\u103b\\u1000\\u103a\\u1010\\u103d\\u1004\\u103a\\u1015\\u102b\\u101b\\u103e\\u102d\\u101e\\u100a\\u103a\\u104b\",\n          \"\\u1014\\u1031\\u1015\\u103c\\u100a\\u103a\\u1010\\u1031\\u102c\\u103a\\u101b\\u103e\\u102d \\u101c\\u103d\\u103e\\u1010\\u103a\\u1010\\u1031\\u102c\\u103a\\u101e\\u102f\\u1036\\u1038\\u101b\\u1015\\u103a\\u1000\\u102d\\u102f \\u1007\\u1030\\u101c\\u102d\\u102f\\u1004\\u103a \\u1042\\u1043 \\u101b\\u1000\\u103a\\u1010\\u103d\\u1004\\u103a \\u1015\\u103c\\u1014\\u103a\\u101c\\u100a\\u103a\\u1005\\u1010\\u1004\\u103a\\u1001\\u1031\\u102b\\u103a\\u101a\\u1030\\u1000\\u103b\\u1004\\u103a\\u1038 \\u1015\\u1019\\u100a\\u103a\\u101f\\u102f \\u1015\\u103c\\u100a\\u103a\\u1011\\u1031\\u102c\\u1004\\u103a\\u1005\\u102f\\u101c\\u103d\\u103e\\u1010\\u103a \\u1010\\u1031\\u102c\\u103a\\u104a \\u1021\\u1019\\u103b\\u102d\\u102f\\u1038\\u101e\\u102c\\u1038\\u101c\\u103d\\u103e\\u1010\\u103a\\u1010\\u1031\\u102c\\u103a\\u1014\\u103e\\u1004\\u1037\\u103a \\u1015\\u103c\\u100a\\u103a\\u101e\\u1030\\u1037\\u101c\\u103d\\u103e\\u1010\\u103a\\u1010\\u1031\\u102c\\u103a\\u1000 \\u101a\\u1019\\u1014\\u103a\\u1014\\u1031\\u1037\\u104c \\u1011\\u102f\\u1010\\u103a\\u1015\\u103c\\u1014\\u103a\\u1000\\u103c\\u1031\\u100a\\u102c\\u101e\\u100a\\u103a\\u104b \\u1021\\u1019\\u103b\\u102d\\u102f\\u1038\\u101e\\u102c\\u1038\\u101c\\u103d\\u103e\\u1010\\u103a\\u1010\\u1031\\u102c\\u103a\\u1014\\u103e\\u1004\\u1037\\u103a \\u1015\\u103c\\u100a\\u103a\\u101e\\u1030\\u1037\\u101c\\u103d\\u103e\\u1010\\u103a\\u1010\\u1031\\u102c\\u103a\\u104f \\u1014\\u101d\\u1019\\u1015\\u102f\\u1036\\u1019\\u103e\\u1014\\u103a \\u1021\\u1005\\u100a\\u103a\\u1038\\u1021\\u101d\\u1031\\u1038\\u1000\\u102d\\u102f \\u1007\\u1030\\u101c\\u102d\\u102f\\u1004\\u103a \\u1042\\u1043 \\u101b\\u1000\\u103a \\u1014\\u1036\\u1014\\u1000\\u103a \\u1041\\u1040 \\u1014\\u102c\\u101b\\u102e\\u1010\\u103d\\u1004\\u103a \\u1005\\u1010\\u1004\\u103a\\u1000\\u103b\\u1004\\u103a\\u1038\\u1015 \\u1019\\u100a\\u103a\\u1016\\u103c\\u1005\\u103a\\u1015\\u103c\\u102e\\u1038 \\u1015\\u103c\\u100a\\u103a\\u1011\\u1031\\u102c\\u1004\\u103a\\u1005\\u102f\\u101c\\u103d\\u103e\\u1010\\u103a \\u1010\\u1031\\u102c\\u103a \\u1014\\u101d\\u1019\\u1015\\u102f\\u1036\\u1019\\u103e\\u1014\\u103a\\u1021\\u1005\\u100a\\u103a\\u1038\\u1021\\u101d\\u1031\\u1038\\u1000\\u102d\\u102f \\u101a\\u1004\\u103a\\u1038\\u1014\\u1031\\u1037 \\u1019\\u103d\\u1014\\u103a\\u1038\\u101c\\u103d\\u1032 \\u1041 \\u1014\\u102c\\u101b\\u102e\\u1001\\u103d\\u1032\\u1010\\u103d\\u1004\\u103a \\u1000\\u103b\\u1004\\u103a\\u1038\\u1015\\u1019\\u100a\\u103a\\u101f\\u102f \\u1011\\u102f\\u1010\\u103a\\u1015\\u103c\\u1014\\u103a\\u1001\\u103b\\u1000\\u103a\\u1019\\u103b\\u102c\\u1038 \\u104c \\u1016\\u1031\\u102c\\u103a\\u1015\\u103c\\u101e\\u100a\\u103a\\u104b \\u1014\\u101d\\u1019\\u1015\\u102f\\u1036\\u1019\\u103e\\u1014\\u103a\\u1021\\u1005\\u100a\\u103a\\u1038\\u1021\\u101d\\u1031\\u1038 \\u1000\\u102c\\u101c\\u1021\\u1010\\u103d\\u1004\\u103a\\u1038 \\u1012\\u102f\\u1010\\u102d\\u101a\\u1021\\u1000\\u103c\\u102d\\u1019\\u103a \\u101c\\u103d\\u103e\\u1010\\u103a\\u1010\\u1031\\u102c\\u103a\\u101e\\u1000\\u103a\\u1010\\u1019\\u103a\\u1038 \\u1011\\u1000\\u103a\\u101d\\u1000\\u103a \\u1000\\u103b\\u102d\\u102f\\u1038\\u1015\\u103c\\u102e\\u1016\\u103c\\u1005\\u103a\\u104d \\u1015\\u103c\\u100a\\u103a\\u1011\\u1031\\u102c\\u1004\\u103a\\u1005\\u102f\\u101c\\u103d\\u103e\\u1010\\u103a \\u1010\\u1031\\u102c\\u103a\\u1014\\u102c\\u101a\\u1000 \\u1010\\u102c\\u101d\\u1014\\u103a\\u1000\\u102d\\u102f \\u1021\\u1019\\u103b\\u102d\\u102f\\u1038\\u101e\\u102c\\u1038\\u101c\\u103d\\u103e\\u1010\\u103a\\u1010\\u1031\\u102c\\u103a\\u1025\\u1000\\u1039\\u1000\\u100b\\u1039\\u100c \\u1019\\u1014\\u103a\\u1038\\u101d\\u1004\\u103a\\u1038\\u1001\\u102d\\u102f\\u1004\\u103a\\u101e\\u1014\\u103a\\u1038\\u1021\\u1005\\u102c\\u1038 \\u1015\\u103c\\u100a\\u103a\\u101e\\u1030\\u1037\\u101c\\u103d\\u103e\\u1010\\u103a\\u1010\\u1031\\u102c\\u103a\\u1025\\u1000\\u1039\\u1000\\u100b\\u1039\\u100c \\u1025\\u102e\\u1038\\u1010\\u102e\\u1001\\u103d\\u1014\\u103a\\u1019\\u103c\\u1010\\u103a\\u1000 \\u1015\\u103c\\u1031\\u102c\\u1004\\u103a\\u1038 \\u101c\\u1032 \\u1010\\u102c\\u101d\\u1014\\u103a\\u1011\\u1019\\u103a\\u1038\\u1006\\u1031\\u102c\\u1004\\u103a\\u1019\\u100a\\u103a\\u1016\\u103c\\u1005\\u103a \\u101e\\u100a\\u103a\\u104b \\u1011\\u102d\\u102f\\u1037\\u1021\\u1010\\u103d\\u1000\\u103a \\u1029\\u1002\\u102f\\u1010\\u103a\\u1000 \\u1005\\u1010\\u1004\\u103a\\u104d \\u1015\\u103c\\u100a\\u103a\\u101e\\u1030\\u1037\\u101c\\u103d\\u103e\\u1010\\u103a\\u1010\\u1031\\u102c\\u103a\\u1025\\u1000\\u1039\\u1000\\u100b\\u1039\\u100c \\u1025\\u102e\\u1038\\u1010\\u102e\\u1001\\u103d\\u1014\\u103a\\u1019\\u103c\\u1010\\u103a\\u1000 \\u1015\\u103c\\u100a\\u103a\\u1011\\u1031\\u102c\\u1004\\u103a\\u1005\\u102f\\u101c\\u103d\\u103e\\u1010\\u103a\\u1010\\u1031\\u102c\\u103a\\u1014\\u102c\\u101a\\u1000\\u1021\\u1016\\u103c\\u1005\\u103a\\u101c\\u100a\\u103a\\u1038 \\u1000\\u1031\\u102c\\u1004\\u103a\\u1038\\u104a \\u1015\\u103c\\u100a\\u103a\\u101e\\u1030\\u1037\\u101c\\u103d\\u103e\\u1010\\u103a\\u1010\\u1031\\u102c\\u103a \\u1012\\u102f\\u1010\\u102d\\u101a\\u1025\\u1000\\u1039\\u1000\\u100b\\u1039\\u100c \\u1025\\u102e\\u1038\\u1011\\u103d\\u1014\\u103a\\u1038\\u1011\\u103d\\u1014\\u103a\\u1038\\u101f\\u102d\\u1014\\u103a\\u1000 \\u1015\\u103c\\u100a\\u103a\\u1011\\u1031\\u102c\\u1004\\u103a\\u1005\\u102f\\u101c\\u103d\\u103e\\u1010\\u103a\\u1010\\u1031\\u102c\\u103a \\u1012\\u102f\\u1010\\u102d\\u101a \\u1014\\u102c\\u101a\\u1000\\u1021\\u1016\\u103c\\u1005\\u103a\\u101c\\u100a\\u103a\\u1038\\u1000\\u1031\\u102c\\u1004\\u103a\\u1038 \\u1010\\u102c\\u101d\\u1014\\u103a\\u1011\\u1019\\u103a\\u1038\\u1006\\u1031\\u102c\\u1004\\u103a\\u1019\\u100a\\u103a\\u1016\\u103c\\u1005\\u103a\\u101e\\u100a\\u103a\\u104b \\u1015\\u103c\\u100a\\u103a\\u1011\\u1031\\u102c\\u1004\\u103a\\u1005\\u102f\\u101c\\u103d\\u103e\\u1010\\u103a\\u1010\\u1031\\u102c\\u103a \\u1014\\u101d\\u1019\\u1015\\u102f\\u1036\\u1019\\u103e\\u1014\\u103a\\u1021\\u1005\\u100a\\u103a\\u1038\\u1021\\u101d\\u1031\\u1038\\u104c \\u1018\\u100f\\u1039\\u1091\\u102c \\u101b\\u1031\\u1038\\u1014\\u103e\\u1005\\u103a \\u1015\\u103c\\u1031\\u102c\\u1004\\u103a\\u1038\\u101c\\u1032\\u101e\\u1010\\u103a\\u1019\\u103e\\u1010\\u103a\\u1019\\u103e\\u102f\\u1021\\u101b \\u1042\\u1040\\u1041\\u1048-\\u1041\\u1049 \\u1018\\u100f\\u1039\\u1091\\u102c\\u101b\\u1031\\u1038\\u1014\\u103e\\u1005\\u103a\\u1021 \\u1010\\u103d\\u1000\\u103a \\u1014\\u102d\\u102f\\u1004\\u103a\\u1004\\u1036\\u1010\\u1031\\u102c\\u103a\\u104f \\u1021\\u1019\\u103b\\u102d\\u102f\\u1038\\u101e\\u102c\\u1038\\u1005\\u102e\\u1019\\u1036 \\u1000\\u102d\\u1014\\u103a\\u1038 \\u1014\\u103e\\u1005\\u103a\\u1005\\u1009\\u103a \\u1021\\u101b\\u104a \\u1021\\u101e\\u102f\\u1036\\u1038 \\u1001\\u1014\\u1037\\u103a\\u1019\\u103e\\u1014\\u103a\\u1038 \\u1001\\u103b\\u1031\\u1038\\u1004\\u103d\\u1031\\u1005\\u102c\\u101b\\u1004\\u103a\\u1038\\u1014\\u103e\\u1004\\u1037\\u103a \\u1021\\u1001\\u103d\\u1014\\u103a\\u1000\\u1031\\u102c\\u1000\\u103a \\u1006\\u102d\\u102f\\u1004\\u103a\\u101b\\u102c \\u1025\\u1015\\u1012\\u1031\\u1000\\u103c\\u1019\\u103a\\u1038\\u1010\\u102d\\u102f\\u1037\\u1000\\u102d\\u102f \\u1006\\u103d\\u1031\\u1038 \\u1014\\u103d\\u1031\\u1038\\u1021\\u1010\\u100a\\u103a\\u1015\\u103c\\u102f\\u1015\\u1031\\u1038\\u1014\\u102d\\u102f\\u1004\\u103a\\u101b\\u1031\\u1038 \\u1021\\u1015\\u102b\\u1021\\u101d\\u1004\\u103a \\u1021\\u1001\\u103c\\u102c\\u1038\\u101c\\u103d\\u103e\\u1010\\u103a\\u1010\\u1031\\u102c\\u103a\\u1006\\u102d\\u102f\\u1004\\u103a\\u101b\\u102c \\u101c\\u102f\\u1015\\u103a\\u1004\\u1014\\u103a\\u1038\\u1019\\u103b\\u102c\\u1038\\u1000\\u102d\\u102f \\u1006\\u1000\\u103a\\u101c\\u1000\\u103a\\u1006\\u1031\\u102c\\u1004\\u103a\\u101b\\u103d\\u1000\\u103a\\u1019\\u100a\\u103a\\u1016\\u103c\\u1005\\u103a\\u1000\\u103c\\u1031\\u102c\\u1004\\u103a\\u1038 \\u1014\\u102c\\u101a\\u1000 \\u1019\\u1014\\u103a\\u1038\\u101d\\u1004\\u103a\\u1038\\u1001\\u102d\\u102f\\u1004\\u103a\\u101e\\u1014\\u103a\\u1038\\u1000 \\u1015\\u103c\\u102e\\u1038\\u1001\\u1032\\u1037\\u101e\\u100a\\u1037\\u103a \\u1021\\u100b\\u1039\\u100c\\u1019\\u1015\\u102f\\u1036\\u1019\\u103e\\u1014\\u103a\\u1021\\u1005\\u100a\\u103a\\u1038\\u1021\\u101d\\u1031\\u1038 \\u1014\\u1031\\u102c\\u1000\\u103a \\u1006\\u102f\\u1036\\u1038\\u1014\\u1031\\u1037\\u104c \\u1015\\u103c\\u1031\\u102c\\u1000\\u103c\\u102c\\u1038\\u101e\\u100a\\u103a\\u104b \\u1015\\u103c\\u100a\\u103a\\u101e\\u1030\\u1037\\u101c\\u103d\\u103e\\u1010\\u103a\\u1010\\u1031\\u102c\\u103a\\u104c \\u1021\\u100b\\u1039\\u100c\\u1019 \\u1015\\u102f\\u1036\\u1019\\u103e\\u1014\\u103a\\u1021\\u1005\\u100a\\u103a\\u1038\\u1021\\u101d\\u1031\\u1038\\u1019\\u103e \\u1006\\u103d\\u1031\\u1038\\u1014\\u103d\\u1031\\u1038\\u101b\\u1014\\u103a \\u1000\\u103b\\u1014\\u103a\\u101b\\u103e\\u102d\\u101e\\u100a\\u1037\\u103a \\u1021\\u1006\\u102d\\u102f\\u101c\\u1031\\u1038\\u1001\\u102f\\u1000\\u102d\\u102f \\u101a\\u1001\\u102f \\u1021\\u1005\\u100a\\u103a\\u1038\\u1021\\u101d\\u1031\\u1038\\u1010\\u103d\\u1004\\u103a \\u1006\\u1000\\u103a\\u101c\\u1000\\u103a \\u1006\\u1031\\u102c\\u1004\\u103a\\u101b\\u103d\\u1000\\u103a\\u1019\\u100a\\u103a\\u1016\\u103c\\u1005\\u103a\\u101e\\u100a\\u103a\\u104b \\u1011\\u102d\\u102f\\u1037\\u1021 \\u1010\\u1030 \\u1015\\u103c\\u102e\\u1038\\u1001\\u1032\\u1037\\u101e\\u100a\\u1037\\u103a \\u1021\\u1005\\u100a\\u103a\\u1038\\u1021\\u101d\\u1031\\u1038\\u1010\\u103d\\u1004\\u103a \\u1025\\u1015\\u1012\\u1031\\u1000\\u103c\\u1019\\u103a\\u1038 \\u1043\\u1047 \\u1001\\u102f\\u1021\\u1014\\u1000\\u103a \\u1041\\u1044 \\u1001\\u102f \\u101e\\u102c \\u1021\\u1010\\u100a\\u103a\\u1015\\u103c\\u102f\\u1014\\u102d\\u102f\\u1004\\u103a\\u1015\\u103c\\u102e\\u1038 \\u1042\\u1043 \\u1001\\u102f\\u1000\\u102d\\u102f \\u101a\\u1001\\u102f\\u1000\\u103b\\u1004\\u103a\\u1038\\u1015\\u1019\\u100a\\u1037\\u103a \\u1015\\u102f\\u1036\\u1019\\u103e\\u1014\\u103a\\u1021\\u1005\\u100a\\u103a\\u1038\\u1021 \\u101d\\u1031\\u1038\\u104c \\u1006\\u1000\\u103a\\u101c\\u1000\\u103a\\u1006\\u1031\\u102c\\u1004\\u103a\\u101b\\u103d\\u1000\\u103a\\u101b\\u1014\\u103a \\u101b\\u103e\\u102d\\u1014\\u1031\\u101e\\u100a\\u103a\\u104b \\u2018\\u2018\\u1021\\u1013\\u102d\\u1000\\u1000\\u1010\\u1031\\u102c\\u1037 \\u1018\\u1010\\u103a\\u1002\\u103b\\u1000\\u103a \\u1006\\u103d\\u1031\\u1038\\u1014\\u103d\\u1031\\u1038\\u1019\\u103e\\u102c\\u1015\\u1031\\u102b\\u1037\\u104b \\u1014\\u1031\\u102c\\u1000\\u103a\\u1015\\u103c\\u102e\\u1038 \\u1021 \\u101b\\u1031\\u1038\\u1000\\u103c\\u102e\\u1038\\u1010\\u102c\\u1000 \\u1015\\u103c\\u100a\\u103a\\u1011\\u1031\\u102c\\u1004\\u103a\\u1005\\u102f \\u101c\\u103d\\u103e\\u1010\\u103a\\u1010\\u1031\\u102c\\u103a\\u1014\\u102c\\u101a\\u1000 \\u1021\\u1015\\u103c\\u1031\\u102c\\u1004\\u103a\\u1038\\u1021 \\u101c\\u1032\\u1000 \\u1012\\u102e\\u1010\\u1005\\u103a\\u1000\\u103c\\u102d\\u1019\\u103a \\u1015\\u102f\\u1036\\u1019\\u103e\\u1014\\u103a\\u1021\\u1005\\u100a\\u103a\\u1038\\u1021 \\u101d\\u1031\\u1038\\u1000\\u102c\\u101c\\u1019\\u103e\\u102c\\u101c\\u102f\\u1015\\u103a\\u1019\\u101a\\u103a\\u104b \\u1010\\u1001\\u103c\\u102c\\u1038 \\u101c\\u103d\\u103e\\u1010\\u103a\\u1010\\u1031\\u102c\\u103a\\u101c\\u102f\\u1015\\u103a\\u1004\\u1014\\u103a\\u1038\\u1010\\u103d\\u1031\\u101c\\u100a\\u103a\\u1038 \\u1015\\u102f\\u1036\\u1019\\u103e\\u1014\\u103a\\u1021\\u1010\\u102d\\u102f\\u1004\\u103a\\u1038 \\u1006\\u1000\\u103a\\u101b\\u103e\\u102d\\u1019\\u103e\\u102c\\u1015\\u1031\\u102b\\u1037\\u2019\\u2019\\u101f\\u102f \\u1015\\u102f\\u101c\\u1032\\u1019\\u103c\\u102d\\u102f\\u1037\\u1014\\u101a\\u103a \\u1015\\u103c\\u100a\\u103a\\u101e\\u1030\\u1037\\u101c\\u103d\\u103e\\u1010\\u103a\\u1010\\u1031\\u102c\\u103a \\u1000\\u102d\\u102f\\u101a\\u103a\\u1005\\u102c\\u1038\\u101c\\u103e\\u101a\\u103a \\u1012\\u1031\\u102b\\u103a\\u1001\\u1004\\u103a\\u1005\\u1014\\u103a\\u1038\\u101c\\u103e\\u102d\\u102f\\u1004\\u103a\\u1000 \\u1015\\u103c\\u1031\\u102c\\u101e\\u100a\\u103a\\u104b \\u1011\\u102d\\u102f\\u1037\\u1021\\u1015\\u103c\\u1004\\u103a \\u1015\\u103c\\u100a\\u103a\\u101e\\u1030\\u1037\\u101c\\u103d\\u103e\\u1010\\u103a \\u1010\\u1031\\u102c\\u103a\\u104c \\u1004\\u103c\\u102d\\u1019\\u103a\\u1038\\u1005\\u102f\\u1005\\u102e\\u1025\\u1015\\u1012\\u1031\\u1000\\u103c\\u1019\\u103a\\u1038\\u1015\\u103c\\u1004\\u103a \\u1006\\u1004\\u103a\\u1001\\u103b\\u1000\\u103a\\u1000\\u102d\\u102f \\u1006\\u103d\\u1031\\u1038\\u1014\\u103d\\u1031\\u1038\\u101b\\u1014\\u103a \\u1010\\u1015\\u103a \\u1019\\u1010\\u1031\\u102c\\u103a\\u101e\\u102c\\u1038\\u1000\\u102d\\u102f\\u101a\\u103a\\u1005\\u102c\\u1038\\u101c\\u103e\\u101a\\u103a \\u1046\\u1040 \\u1025\\u102e\\u1038 \\u1021\\u1015\\u102b\\u1021\\u101d\\u1004\\u103a \\u1000\\u102d\\u102f\\u101a\\u103a\\u1005\\u102c\\u1038\\u101c\\u103e\\u101a\\u103a \\u1005\\u102f\\u1005\\u102f\\u1015\\u1031\\u102b\\u1004\\u103a\\u1038 \\u1048\\u1040 \\u1025\\u102e\\u1038\\u1000 \\u101e\\u1010\\u1039\\u1010\\u1019\\u1015\\u102f\\u1036\\u1019\\u103e\\u1014\\u103a\\u1021 \\u1005\\u100a\\u103a\\u1038\\u1021\\u101d\\u1031\\u1038\\u1010\\u103d\\u1004\\u103a \\u1005\\u102c\\u101b\\u1004\\u103a\\u1038\\u1015\\u1031\\u1038\\u1011\\u102c\\u1038 \\u101e\\u1031\\u102c\\u103a\\u101c\\u100a\\u103a\\u1038 \\u1015\\u103c\\u102e\\u1038\\u1001\\u1032\\u1037\\u101e\\u100a\\u1037\\u103a \\u1021\\u100b\\u1039\\u100c\\u1019\\u1015\\u102f\\u1036\\u1019\\u103e\\u1014\\u103a \\u1021\\u1005\\u100a\\u103a\\u1038\\u1021\\u101d\\u1031\\u1038\\u1010\\u103d\\u1004\\u103a \\u101a\\u1004\\u103a\\u1038\\u1025\\u1015\\u1012\\u1031 \\u1000\\u103c\\u1019\\u103a\\u1038\\u1000\\u102d\\u102f \\u1006\\u103d\\u1031\\u1038\\u1014\\u103d\\u1031\\u1038\\u1001\\u1032\\u1037\\u1001\\u103c\\u1004\\u103a\\u1038\\u1019\\u101b\\u103e\\u102d\\u101e\\u1016\\u103c\\u1004\\u1037\\u103a \\u101a\\u1001\\u102f\\u1021\\u1005\\u100a\\u103a\\u1038\\u1021\\u101d\\u1031\\u1038\\u104c \\u1006\\u103d\\u1031\\u1038\\u1014\\u103d\\u1031\\u1038 \\u1016\\u103d\\u101a\\u103a\\u101b\\u103e\\u102d\\u104a \\u1019\\u101b\\u103e\\u102d \\u1005\\u1031\\u102c\\u1004\\u1037\\u103a\\u1000\\u103c\\u100a\\u1037\\u103a\\u101b\\u1019\\u100a\\u103a\\u1016\\u103c\\u1005\\u103a \\u101e\\u100a\\u103a\\u104b\",\n          \"\\u101b\\u1014\\u103a\\u1000\\u102f\\u1014\\u103a\\u1005\\u1010\\u1031\\u102c\\u1037\\u1021\\u102d\\u1010\\u103a \\u1001\\u103b\\u102d\\u1014\\u103a\\u1038\\u1010\\u103d\\u1004\\u103a \\u1004\\u102b\\u1038\\u1001\\u102f\\u1019\\u103c\\u1031\\u102c\\u1000\\u103a\\u1005\\u102c\\u101b\\u1004\\u103a\\u1038\\u1040\\u1004\\u103a \\u1000\\u102f\\u1019\\u1039\\u1015\\u100f\\u102e\\u1021\\u1016\\u103c\\u1005\\u103a \\u1040\\u1004\\u103a\\u101b\\u1031\\u102c\\u1000\\u103a\\u101e\\u100a\\u1037\\u103a TMH \\u1010\\u101a\\u103a\\u101c\\u102e\\u1000\\u103d\\u1014\\u103a\\u1038\\u1000\\u102f\\u1019\\u1039\\u1015\\u100f\\u102e\\u1000 \\u1021\\u1005\\u102f\\u101b\\u103e\\u101a\\u103a\\u101a\\u102c\\u1010\\u1005\\u103a\\u1005\\u102f\\u101c\\u103b\\u103e\\u1004\\u103a \\u1021\\u1019\\u103c\\u1010\\u103a \\u1031\\u1040\\u1005\\u102f\\u1000\\u103b\\u1015\\u103a \\u1042\\u1040\\u1040 \\u1015\\u1011\\u1019\\u1006\\u102f\\u1036\\u1038\\u1021\\u1000\\u103c\\u102d\\u1019\\u103a \\u1015\\u1031\\u1038\\u1021\\u1015\\u103a\\u1019\\u100a\\u103a\\u101f\\u102f \\u1007\\u103d\\u1014\\u103a\\u101c \\u1042\\u1048 \\u101b\\u1000\\u103a\\u104c \\u1011\\u102f\\u1010\\u103a\\u1015\\u103c\\u1014\\u103a\\u1000\\u103c\\u1031\\u100a\\u102c\\u1001\\u1032\\u1037\\u101e\\u100a\\u103a\\u104b \\u101b\\u1014\\u103a\\u1000\\u102f\\u1014\\u103a\\u1005\\u1010\\u1031\\u102c\\u1037\\u1021\\u102d\\u1010\\u103a\\u1001\\u103b\\u102d\\u1014\\u103a\\u1038\\u1005\\u102c \\u101b\\u1004\\u103a\\u1038\\u1040\\u1004\\u103a\\u1000\\u102f\\u1019\\u1039\\u1015\\u100f\\u102e\\u1019\\u103b\\u102c\\u1038\\u1021\\u1014\\u1000\\u103a \\u1010\\u1010\\u102d \\u101a\\u1019\\u103c\\u1031\\u102c\\u1000\\u103a\\u1021\\u1019\\u103c\\u1010\\u103a\\u1031\\u1040\\u1005\\u102f\\u1015\\u1031\\u1038\\u1021\\u1015\\u103a \\u1019\\u100a\\u103a\\u101f\\u102f \\u1000\\u103c\\u1031\\u100a\\u102c\\u101e\\u100a\\u1037\\u103a\\u1021\\u1019\\u103b\\u102c\\u1038\\u1015\\u102d\\u102f\\u1004\\u103a \\u1000\\u102f\\u1019\\u1039\\u1015\\u100f\\u102e\\u1016\\u103c\\u1005\\u103a\\u1015\\u103c\\u102e\\u1038 \\u1021\\u1006\\u102d\\u102f\\u1015\\u102b\\u1021\\u1019\\u103c\\u1010\\u103a\\u1031\\u1040 \\u1005\\u102f\\u101e\\u100a\\u103a \\u1007\\u103d\\u1014\\u103a\\u101c \\u1042\\u1049 \\u101b\\u1000\\u103a\\u1010\\u103d\\u1004\\u103a\\u1000\\u103b\\u1015\\u103a \\u1042,\\u1049\\u1045\\u1040 \\u1015\\u1031\\u102b\\u1000\\u103a\\u1008\\u1031\\u1038\\u101b\\u103e\\u102d\\u101e\\u100a\\u1037\\u103a\\u101b\\u103e\\u101a\\u103a \\u101a\\u102c\\u1008\\u1031\\u1038\\u1021\\u1010\\u103d\\u1004\\u103a\\u1038 \\u1015\\u1031\\u1038\\u1021\\u1015\\u103a\\u1019\\u100a\\u103a\\u101f\\u102f \\u1000\\u102f\\u1019\\u1039\\u1015\\u100f\\u102e\\u1000\\u1011\\u102f\\u1010\\u103a\\u1015\\u103c\\u1014\\u103a\\u1011\\u102c\\u1038\\u101e\\u100a\\u103a\\u104b TMH \\u1010\\u101a\\u103a\\u101c\\u102e\\u1000\\u103d\\u1014\\u103a\\u1038\\u1000\\u102f\\u1019\\u1039\\u1015\\u100f\\u102e \\u1000 \\u104e\\u1004\\u103a\\u1038\\u104f\\u1000\\u1014\\u1025\\u102e\\u1038\\u1021\\u1005\\u102f\\u101b\\u103e\\u101a\\u103a\\u101a\\u102c\\u1004\\u102b\\u1038\\u101e\\u102d\\u1014\\u103a\\u1038\\u1001\\u1014\\u1037\\u103a\\u1000\\u102d\\u102f \\u1021\\u1019\\u103b\\u102c\\u1038\\u1015\\u103c\\u100a\\u103a\\u101e\\u1030\\u101e\\u102d\\u102f\\u1037 \\u1010\\u102d\\u102f\\u1000\\u103a\\u101b\\u102d\\u102f\\u1000\\u103a\\u101b\\u1031\\u102c\\u1004\\u103a\\u1038\\u1001\\u103b\\u1001\\u103c\\u1004\\u103a\\u1038\\u1016\\u103c\\u1005\\u103a \\u101e\\u100a\\u103a\\u104b TMH \\u1000\\u102f\\u1019\\u1039\\u1015\\u100f\\u102e\\u101e\\u100a\\u103a \\u101b\\u1014\\u103a \\u1000\\u102f\\u1014\\u103a\\u1005\\u1010\\u1031\\u102c\\u1037\\u1021\\u102d\\u1010\\u103a\\u1001\\u103b\\u102d\\u1014\\u103a\\u1038\\u1000\\u102d\\u102f \\u1042\\u1040\\u1041\\u1048 \\u1014\\u103e\\u1005\\u103a\\u1006\\u1014\\u103a\\u1038\\u1015\\u102d\\u102f\\u1004\\u103a\\u1038\\u1010\\u103d\\u1004\\u103a \\u101b\\u103e\\u101a\\u103a\\u101a\\u102c\\u1010\\u1005\\u103a\\u1005\\u102f \\u101c\\u103b\\u103e\\u1004\\u103a \\u1000\\u103b\\u1015\\u103a \\u1043,\\u1040\\u1040\\u1040 \\u101e\\u1010\\u103a\\u1019\\u103e\\u1010\\u103a\\u1000\\u102c \\u1005\\u1010\\u1004\\u103a\\u1040\\u1004\\u103a\\u101b\\u1031\\u102c\\u1000\\u103a\\u1001\\u1032\\u1037\\u1015\\u103c\\u102e\\u1038 \\u101b\\u103e\\u101a\\u103a\\u101a\\u102c \\u101e\\u1005\\u103a\\u1019\\u103b\\u102c\\u1038\\u1015\\u1011\\u1019\\u1006\\u102f\\u1036\\u1038\\u1005\\u1010\\u1004\\u103a\\u101b\\u1031\\u102c\\u1004\\u103a\\u1038\\u1001\\u103b \\u101e\\u100a\\u1037\\u103a\\u1000\\u102f\\u1019\\u1039\\u1015\\u100f\\u102e\\u1016\\u103c\\u1005\\u103a\\u101e\\u100a\\u103a\\u104b \\u1011\\u102d\\u102f\\u1021\\u1019\\u103c\\u1010\\u103a\\u1031\\u1040\\u1005\\u102f\\u1019\\u103b\\u102c\\u1038\\u1000\\u102d\\u102f \\u1029 \\u1002\\u102f\\u1010\\u103a \\u1045 \\u101b\\u1000\\u103a\\u1010\\u103d\\u1004\\u103a\\u1001\\u103d\\u1032\\u1031\\u1040\\u1015\\u1031\\u1038\\u1019\\u100a\\u103a\\u1016\\u103c\\u1005\\u103a \\u1015\\u103c\\u102e\\u1038 \\u1007\\u1030\\u101c\\u102d\\u102f\\u1004\\u103a \\u1049 \\u101b\\u1000\\u103a\\u1021\\u1011\\u102d \\u101b\\u103e\\u101a\\u103a\\u101a\\u102c \\u1014\\u102c\\u1019\\u100a\\u103a\\u1015\\u1031\\u102b\\u1000\\u103a\\u1015\\u102d\\u102f\\u1004\\u103a\\u1006\\u102d\\u102f\\u1004\\u103a\\u1011\\u102c\\u1038\\u101e\\u1030\\u1019\\u103b\\u102c\\u1038 \\u1000\\u102d\\u102f \\u1011\\u102f\\u1010\\u103a\\u1015\\u1031\\u1038\\u1019\\u100a\\u103a\\u1016\\u103c\\u1005\\u103a\\u101e\\u100a\\u103a\\u104b \\u2018\\u2018\\u1010\\u101a\\u103a\\u101c\\u102e\\u1000\\u103d\\u1014\\u103a\\u1038\\u101c\\u102f\\u1015\\u103a\\u1004\\u1014\\u103a\\u1038\\u1006\\u102d\\u102f \\u1010\\u1031\\u102c\\u1037 \\u1021\\u101c\\u102c\\u1038\\u1021\\u101c\\u102c\\u101c\\u100a\\u103a\\u1038\\u1000\\u1031\\u102c\\u1004\\u103a\\u1038\\u1010\\u101a\\u103a\\u104b \\u1021\\u1019\\u103c\\u1010\\u103a\\u1019\\u103b\\u102c\\u1038\\u101c\\u102d\\u102f\\u1037 \\u1015\\u1031\\u1038\\u1014\\u102d\\u102f\\u1004\\u103a\\u1010\\u102c\\u2019\\u2019 \\u101f\\u102f \\u1005\\u1010\\u1031\\u102c\\u1037\\u101b\\u103e\\u101a\\u103a\\u101a\\u102c \\u1040\\u101a\\u103a\\u101a\\u1030\\u1011\\u102c\\u1038\\u101e\\u1030\\u1025\\u102e\\u1038\\u101c\\u103e\\u1019\\u1031\\u102c\\u1004\\u103a\\u1000\\u1015\\u103c\\u1031\\u102c\\u101e\\u100a\\u103a\\u104b \\u1021\\u1006\\u102d\\u102f\\u1015\\u102b TMH\\u1000\\u102f\\u1019\\u1039\\u1015\\u100f\\u102e\\u101e\\u100a\\u103a \\u1006\\u1000\\u103a\\u101e\\u103d\\u101a\\u103a\\u101b\\u1031\\u1038\\u101c\\u102f\\u1015\\u103a\\u1004\\u1014\\u103a\\u1038\\u1016\\u103c\\u1005\\u103a\\u101e\\u100a\\u1037\\u103a \\u1016\\u102d\\u102f\\u1000\\u103a\\u1018\\u102c\\u101c\\u1019\\u103a\\u1038\\u1000\\u103c\\u1031\\u102c\\u1004\\u103a\\u1038\\u101e\\u103d\\u101a\\u103a\\u1010\\u1014\\u103a\\u1038 \\u1001\\u103c\\u1004\\u103a\\u1038\\u1014\\u103e\\u1004\\u1037\\u103a \\u1016\\u102f\\u1014\\u103a\\u1038\\u1004\\u103d\\u1031\\u1016\\u103c\\u100a\\u1037\\u103a\\u1000\\u1010\\u103a\\u101c\\u102f\\u1015\\u103a\\u1004\\u1014\\u103a\\u1038 \\u1019\\u103b\\u102c\\u1038 \\u1006\\u1031\\u102c\\u1004\\u103a\\u101b\\u103d\\u1000\\u103a\\u1014\\u1031\\u1015\\u103c\\u102e\\u1038 \\u1011\\u1015\\u103a\\u1019\\u1036\\u1010\\u102d\\u102f\\u1038 \\u1001\\u103b\\u1032\\u1037\\u1019\\u100a\\u103a\\u101f\\u102f \\u1000\\u102f\\u1019\\u1039\\u1015\\u100f\\u102e\\u1021\\u102f\\u1015\\u103a\\u1001\\u103b\\u102f\\u1015\\u103a\\u1019\\u103e\\u102f\\u1012\\u102b \\u101b\\u102d\\u102f\\u1000\\u103a\\u1010\\u102c\\u1025\\u102e\\u1038\\u101e\\u102e\\u101f\\u101c\\u103d\\u1004\\u103a\\u1000 \\u1015\\u103c\\u1031\\u102c \\u101e\\u100a\\u103a\\u104b \\u101e\\u102e\\u101c\\u101d\\u102b\\u1021\\u1011\\u1030\\u1038\\u1005\\u102e\\u1038\\u1015\\u103d\\u102c\\u1038\\u101b\\u1031\\u1038\\u1007\\u102f\\u1014\\u103a \\u1021\\u1019\\u103b\\u102c\\u1038\\u1015\\u102d\\u102f\\u1004\\u103a\\u1000\\u102f\\u1019\\u1039\\u1015\\u100f\\u102e(MTSH)\\u1000 \\u101b\\u103e\\u101a\\u103a\\u101a\\u102c\\u1010\\u1005\\u103a\\u1005\\u102f\\u1000\\u102d\\u102f \\u1000\\u103b\\u1015\\u103a \\u1042\\u1043\\u1040 \\u1015\\u1031\\u1038 \\u1019\\u100a\\u103a\\u1016\\u103c\\u1005\\u103a\\u1000\\u103c\\u1031\\u102c\\u1004\\u103a\\u1038 \\u1000\\u103c\\u1031\\u100a\\u102c\\u1011\\u102c\\u1038 \\u1015\\u103c\\u102e\\u1038 FMI \\u1000\\u102f\\u1019\\u1039\\u1015\\u100f\\u102e\\u1000\\u101c\\u100a\\u103a\\u1038 \\u1021\\u1019\\u103c\\u1010\\u103a \\u1031\\u1040\\u1005\\u102f \\u1015\\u1031\\u1038\\u1019\\u100a\\u103a\\u1016\\u103c\\u1005\\u103a\\u101e\\u1031\\u102c\\u103a\\u101c\\u100a\\u103a\\u1038 \\u1015\\u1019\\u102c\\u100f\\u1000\\u102d\\u102f \\u1019\\u1000\\u103c\\u102c\\u1019\\u102e\\u1000\\u103c\\u1031\\u100a\\u102c\\u1019\\u100a\\u103a \\u101f\\u102f \\u1011\\u102f\\u1010\\u103a\\u1015\\u103c\\u1014\\u103a\\u1011\\u102c\\u1038\\u101e\\u100a\\u103a\\u104b\"\n        ],\n        \"semantic_type\": \"\",\n        \"description\": \"\"\n      }\n    },\n    {\n      \"column\": \"Category\",\n      \"properties\": {\n        \"dtype\": \"category\",\n        \"num_unique_values\": 4,\n        \"samples\": [\n          \"crime\",\n          \"politic\",\n          \"business\"\n        ],\n        \"semantic_type\": \"\",\n        \"description\": \"\"\n      }\n    },\n    {\n      \"column\": \"category_id\",\n      \"properties\": {\n        \"dtype\": \"number\",\n        \"std\": 1,\n        \"min\": 0,\n        \"max\": 3,\n        \"num_unique_values\": 4,\n        \"samples\": [\n          1,\n          3,\n          0\n        ],\n        \"semantic_type\": \"\",\n        \"description\": \"\"\n      }\n    }\n  ]\n}"
            }
          },
          "metadata": {},
          "execution_count": 3
        }
      ]
    },
    {
      "cell_type": "markdown",
      "source": [
        "# Data Checking and Visualization"
      ],
      "metadata": {
        "id": "zamDYrZ77Ofi"
      }
    },
    {
      "cell_type": "code",
      "source": [
        "data.isnull().sum()"
      ],
      "metadata": {
        "colab": {
          "base_uri": "https://localhost:8080/"
        },
        "id": "AJjbS_iQ7Lce",
        "outputId": "6d56c1e5-5aa4-4fd7-80cc-f6971e5c1689"
      },
      "execution_count": 4,
      "outputs": [
        {
          "output_type": "execute_result",
          "data": {
            "text/plain": [
              "Index          0\n",
              "News           0\n",
              "Category       0\n",
              "category_id    0\n",
              "dtype: int64"
            ]
          },
          "metadata": {},
          "execution_count": 4
        }
      ]
    },
    {
      "cell_type": "code",
      "source": [
        "colslist = ['Index','News', 'Category', 'category_id']\n",
        "data.columns = colslist\n",
        "data.groupby('Category').Index.count().plot.bar(ylim=0)"
      ],
      "metadata": {
        "colab": {
          "base_uri": "https://localhost:8080/",
          "height": 552
        },
        "id": "ZmOwrDCc7UFH",
        "outputId": "e5b44139-3eb4-4177-f007-0155e56cb8a1"
      },
      "execution_count": 5,
      "outputs": [
        {
          "output_type": "execute_result",
          "data": {
            "text/plain": [
              "<Axes: xlabel='Category'>"
            ]
          },
          "metadata": {},
          "execution_count": 5
        },
        {
          "output_type": "display_data",
          "data": {
            "text/plain": [
              "<Figure size 640x480 with 1 Axes>"
            ],
            "image/png": "[encoded data removed]"
          },
          "metadata": {}
        }
      ]
    },
    {
      "cell_type": "code",
      "source": [
        "# Viewing the data as in whole\n",
        "list_of_dicts = data.to_dict(orient='records')\n",
        "list_of_dicts[0]"
      ],
      "metadata": {
        "colab": {
          "base_uri": "https://localhost:8080/"
        },
        "id": "Duz1KxgR7aau",
        "outputId": "99ae7d61-2954-4d7c-e692-70873938f525"
      },
      "execution_count": 6,
      "outputs": [
        {
          "output_type": "execute_result",
          "data": {
            "text/plain": [
              "{'Index': 1,\n",
              " 'News': 'တီကျစ်ကျောက် မီးသွေးဓာတ်အားပေး စက်ရုံကို သက်တမ်းတိုး ထပ်မံလည်ပတ် ရန် ရှမ်းပြည်နယ်အစိုးရနှင့် ၀န် ကြီးဌာနက ကန့်ကွက်ရန်မရှိ ကြောင်း လျှပ်စစ်နှင့် စွမ်းအင်၀န် ကြီးဌာန ပြောရေးဆိုခွင့်နှင့် သတင်းပြန်ကြားရေး အဖွဲ့က ဇူလိုင် ၁၂ ရက်တွင် သတင်းထုတ်ပြန်သည်။ ရှမ်းပြည်နယ်ရှိ ကျောက်မီး သွေးသုံး ဓာတ်အားပေးစက်ရုံကို ၂၀၁၇ မေလ ၂၆ ရက်တွင် စမ်း သပ်လည်ပတ်ရာ တစ်နှစ်ပြည့် ၍ ထပ်မံသက်တမ်းတိုးရန် စီစဉ် နေပြီး လက်ရှိ၌ ပြည်ထောင်စု အစိုးရအဖွဲ့နှင့် သမ္မတရုံးသို့ တင်ပြထားကြောင်း လျှပ်စစ်ဓာတ် အားထုတ်လုပ်ရေးလုပ်ငန်း ဦးဆောင်ညွှန်ကြားရေးမှူး ဦးခင်မောင်၀င်းက ပြောသည်။ ‘‘အရင်တုန်းက ပြာတွေ ထွက်တယ်။ မီးခိုးနံ့တွေ ထွက် တယ်။ ဟိုတုန်းကစက်တွေ ဟောင်းစုတ်နေပါပြီ။ အခုစက်တွေပြင် ပြီးသွားပြီ။ ကမ္ဘာ့ဘဏ်သတ်မှတ် ချက်နှုန်း ပတ်၀န်းကျင်ထိန်းသိမ်း ရေး ၀န်ကြီးဌာနက သတ်မှတ်ထားတဲ့ ဂိုက်လိုင်းအတိုင်း ဒီအတွင်းထဲ မှာ ပြင်ပြီးသွားပြီ’’ဟု ၎င်းကဆက် လက်ပြောသည်။ အဆိုပါ စက်ရုံကို တရုတ် ကုမ္ပဏီက စနစ်တကျပြုပြင်ကာ အမျိုးသား ပတ်၀န်းကျင်ဆိုင်ရာ အရည်အသွေး (ထုတ်လွှတ်မှု) လမ်းညွှန်ချက်များနှင့် ကမ္ဘာ့ဘဏ်၏ သတ်မှတ်ချက် စံချိန်စံညွှန်းများအတိုင်း ဆောင်ရွက်ပြီး ဖြစ်ကြောင်း ဦးခင်မောင်၀င်းက ပြောသည်။ အဆိုပါ တီကျစ်ကျောက်မီး သွေးစက်ရုံကို ၂၀၁၅ မေလက တရုတ် Wuxi Hua Guang လျှပ် စစ်စွမ်းအင် ကုမ္ပဏီက တင်ဒါ အောင်မြင်ထားပြီး ၂၀၁၇ မေလ ၁၆ ရက်တွင် ဒေသခံများ၏ သဘောတူညီမှုဖြင့် တစ်နှစ်စမ်း သပ်လည်ပတ်ခွင့်ရခဲ့သည်။ ထိုစက်ရုံတွင် လျှပ်စစ်ဓာတ် အား စက်တပ်ဆင်အား မဂ္ဂါ၀ပ် ၁၂၀ ရှိပြီး လက်ရှိ၌ မဂ္ဂါ၀ပ် ၈၀ ထုတ်လုပ်နေသည်။ တရုတ် ကုမ္ပဏီ၏ လူမှုအကျိုးပြု အစီအ စဉ်ဖြင့် စက်ရုံပတ်လည်ရှိ ကျေး ရွာရှစ်ရွာတွင် လျှပ်စစ်မီးလင်းရေး ဆောင်ရွက်ခဲ့သည်ဟု ၀န်ကြီးဌာနက ဆိုထားသည်။ ထို့ကြောင့် ကျေးရွာများရှိ ဒေသခံအများစုက စက်ရုံကို ကန့်ကွက်မှုမရှိကြောင်း ဦးခင်မောင် ၀င်းက ဆိုသည်။',\n",
              " 'Category': 'business',\n",
              " 'category_id': 0}"
            ]
          },
          "metadata": {},
          "execution_count": 6
        }
      ]
    },
    {
      "cell_type": "markdown",
      "source": [
        "# Data Preprocessing"
      ],
      "metadata": {
        "id": "v5MB_nvM7lph"
      }
    },
    {
      "cell_type": "markdown",
      "source": [
        "### Convert the Article to Sentences"
      ],
      "metadata": {
        "id": "AdhnxNu17sOx"
      }
    },
    {
      "cell_type": "code",
      "source": [
        "final_dict_list=[]\n",
        "for obj in list_of_dicts:\n",
        "    text = obj['News']\n",
        "    sentences = text.split(\"။\")\n",
        "    # Remove any empty strings resulting from consecutive delimiters\n",
        "    sentences = [sentence.strip() for sentence in sentences if sentence.strip()]\n",
        "    my_dict_list = [{\"Index\":obj['Index'],\"News\": item, \"Category\":obj['Category'],\"category_id\":obj['category_id']} for item in sentences]\n",
        "    final_dict_list.extend(my_dict_list)\n",
        "data_list = [{'Index': i+1, 'News': item['News'], 'Category': item['Category'], 'category_id': item['category_id']} for i, item in enumerate(final_dict_list)]"
      ],
      "metadata": {
        "id": "9_T68rb67g7f"
      },
      "execution_count": 7,
      "outputs": []
    },
    {
      "cell_type": "code",
      "source": [
        "data = pd.DataFrame(data_list)\n",
        "data.head()"
      ],
      "metadata": {
        "colab": {
          "base_uri": "https://localhost:8080/",
          "height": 206
        },
        "id": "FKq1ek4D7s_H",
        "outputId": "4b0aea73-1d18-4235-cd47-eb181ee6ded3"
      },
      "execution_count": 8,
      "outputs": [
        {
          "output_type": "execute_result",
          "data": {
            "text/plain": [
              "   Index                                               News  Category  \\\n",
              "0      1  တီကျစ်ကျောက် မီးသွေးဓာတ်အားပေး စက်ရုံကို သက်တမ...  business   \n",
              "1      2  ရှမ်းပြည်နယ်ရှိ ကျောက်မီး သွေးသုံး ဓာတ်အားပေးစ...  business   \n",
              "2      3                        ‘‘အရင်တုန်းက ပြာတွေ ထွက်တယ်  business   \n",
              "3      4                             မီးခိုးနံ့တွေ ထွက် တယ်  business   \n",
              "4      5                  ဟိုတုန်းကစက်တွေ ဟောင်းစုတ်နေပါပြီ  business   \n",
              "\n",
              "   category_id  \n",
              "0            0  \n",
              "1            0  \n",
              "2            0  \n",
              "3            0  \n",
              "4            0  "
            ],
            "text/html": [
              "\n",
              "  <div id=\"df-9a9d81a9-7b96-41eb-83ce-2996e548b984\" class=\"colab-df-container\">\n",
              "    <div>\n",
              "<style scoped>\n",
              "    .dataframe tbody tr th:only-of-type {\n",
              "        vertical-align: middle;\n",
              "    }\n",
              "\n",
              "    .dataframe tbody tr th {\n",
              "        vertical-align: top;\n",
              "    }\n",
              "\n",
              "    .dataframe thead th {\n",
              "        text-align: right;\n",
              "    }\n",
              "</style>\n",
              "<table border=\"1\" class=\"dataframe\">\n",
              "  <thead>\n",
              "    <tr style=\"text-align: right;\">\n",
              "      <th></th>\n",
              "      <th>Index</th>\n",
              "      <th>News</th>\n",
              "      <th>Category</th>\n",
              "      <th>category_id</th>\n",
              "    </tr>\n",
              "  </thead>\n",
              "  <tbody>\n",
              "    <tr>\n",
              "      <th>0</th>\n",
              "      <td>1</td>\n",
              "      <td>တီကျစ်ကျောက် မီးသွေးဓာတ်အားပေး စက်ရုံကို သက်တမ...</td>\n",
              "      <td>business</td>\n",
              "      <td>0</td>\n",
              "    </tr>\n",
              "    <tr>\n",
              "      <th>1</th>\n",
              "      <td>2</td>\n",
              "      <td>ရှမ်းပြည်နယ်ရှိ ကျောက်မီး သွေးသုံး ဓာတ်အားပေးစ...</td>\n",
              "      <td>business</td>\n",
              "      <td>0</td>\n",
              "    </tr>\n",
              "    <tr>\n",
              "      <th>2</th>\n",
              "      <td>3</td>\n",
              "      <td>‘‘အရင်တုန်းက ပြာတွေ ထွက်တယ်</td>\n",
              "      <td>business</td>\n",
              "      <td>0</td>\n",
              "    </tr>\n",
              "    <tr>\n",
              "      <th>3</th>\n",
              "      <td>4</td>\n",
              "      <td>မီးခိုးနံ့တွေ ထွက် တယ်</td>\n",
              "      <td>business</td>\n",
              "      <td>0</td>\n",
              "    </tr>\n",
              "    <tr>\n",
              "      <th>4</th>\n",
              "      <td>5</td>\n",
              "      <td>ဟိုတုန်းကစက်တွေ ဟောင်းစုတ်နေပါပြီ</td>\n",
              "      <td>business</td>\n",
              "      <td>0</td>\n",
              "    </tr>\n",
              "  </tbody>\n",
              "</table>\n",
              "</div>\n",
              "    <div class=\"colab-df-buttons\">\n",
              "\n",
              "  <div class=\"colab-df-container\">\n",
              "    <button class=\"colab-df-convert\" onclick=\"convertToInteractive('df-9a9d81a9-7b96-41eb-83ce-2996e548b984')\"\n",
              "            title=\"Convert this dataframe to an interactive table.\"\n",
              "            style=\"display:none;\">\n",
              "\n",
              "  <svg xmlns=\"http://www.w3.org/2000/svg\" height=\"24px\" viewBox=\"0 -960 960 960\">\n",
              "    <path d=\"M120-120v-720h720v720H120Zm60-500h600v-160H180v160Zm220 220h160v-160H400v160Zm0 220h160v-160H400v160ZM180-400h160v-160H180v160Zm440 0h160v-160H620v160ZM180-180h160v-160H180v160Zm440 0h160v-160H620v160Z\"/>\n",
              "  </svg>\n",
              "    </button>\n",
              "\n",
              "  <style>\n",
              "    .colab-df-container {\n",
              "      display:flex;\n",
              "      gap: 12px;\n",
              "    }\n",
              "\n",
              "    .colab-df-convert {\n",
              "      background-color: #E8F0FE;\n",
              "      border: none;\n",
              "      border-radius: 50%;\n",
              "      cursor: pointer;\n",
              "      display: none;\n",
              "      fill: #1967D2;\n",
              "      height: 32px;\n",
              "      padding: 0 0 0 0;\n",
              "      width: 32px;\n",
              "    }\n",
              "\n",
              "    .colab-df-convert:hover {\n",
              "      background-color: #E2EBFA;\n",
              "      box-shadow: 0px 1px 2px rgba(60, 64, 67, 0.3), 0px 1px 3px 1px rgba(60, 64, 67, 0.15);\n",
              "      fill: #174EA6;\n",
              "    }\n",
              "\n",
              "    .colab-df-buttons div {\n",
              "      margin-bottom: 4px;\n",
              "    }\n",
              "\n",
              "    [theme=dark] .colab-df-convert {\n",
              "      background-color: #3B4455;\n",
              "      fill: #D2E3FC;\n",
              "    }\n",
              "\n",
              "    [theme=dark] .colab-df-convert:hover {\n",
              "      background-color: #434B5C;\n",
              "      box-shadow: 0px 1px 3px 1px rgba(0, 0, 0, 0.15);\n",
              "      filter: drop-shadow(0px 1px 2px rgba(0, 0, 0, 0.3));\n",
              "      fill: #FFFFFF;\n",
              "    }\n",
              "  </style>\n",
              "\n",
              "    <script>\n",
              "      const buttonEl =\n",
              "        document.querySelector('#df-9a9d81a9-7b96-41eb-83ce-2996e548b984 button.colab-df-convert');\n",
              "      buttonEl.style.display =\n",
              "        google.colab.kernel.accessAllowed ? 'block' : 'none';\n",
              "\n",
              "      async function convertToInteractive(key) {\n",
              "        const element = document.querySelector('#df-9a9d81a9-7b96-41eb-83ce-2996e548b984');\n",
              "        const dataTable =\n",
              "          await google.colab.kernel.invokeFunction('convertToInteractive',\n",
              "                                                    [key], {});\n",
              "        if (!dataTable) return;\n",
              "\n",
              "        const docLinkHtml = 'Like what you see? Visit the ' +\n",
              "          '<a target=\"_blank\" href=https://colab.research.google.com/notebooks/data_table.ipynb>data table notebook</a>'\n",
              "          + ' to learn more about interactive tables.';\n",
              "        element.innerHTML = '';\n",
              "        dataTable['output_type'] = 'display_data';\n",
              "        await google.colab.output.renderOutput(dataTable, element);\n",
              "        const docLink = document.createElement('div');\n",
              "        docLink.innerHTML = docLinkHtml;\n",
              "        element.appendChild(docLink);\n",
              "      }\n",
              "    </script>\n",
              "  </div>\n",
              "\n",
              "\n",
              "<div id=\"df-1a6f17c0-0bcc-4dcf-9773-109ce7a56cf5\">\n",
              "  <button class=\"colab-df-quickchart\" onclick=\"quickchart('df-1a6f17c0-0bcc-4dcf-9773-109ce7a56cf5')\"\n",
              "            title=\"Suggest charts\"\n",
              "            style=\"display:none;\">\n",
              "\n",
              "<svg xmlns=\"http://www.w3.org/2000/svg\" height=\"24px\"viewBox=\"0 0 24 24\"\n",
              "     width=\"24px\">\n",
              "    <g>\n",
              "        <path d=\"M19 3H5c-1.1 0-2 .9-2 2v14c0 1.1.9 2 2 2h14c1.1 0 2-.9 2-2V5c0-1.1-.9-2-2-2zM9 17H7v-7h2v7zm4 0h-2V7h2v10zm4 0h-2v-4h2v4z\"/>\n",
              "    </g>\n",
              "</svg>\n",
              "  </button>\n",
              "\n",
              "<style>\n",
              "  .colab-df-quickchart {\n",
              "      --bg-color: #E8F0FE;\n",
              "      --fill-color: #1967D2;\n",
              "      --hover-bg-color: #E2EBFA;\n",
              "      --hover-fill-color: #174EA6;\n",
              "      --disabled-fill-color: #AAA;\n",
              "      --disabled-bg-color: #DDD;\n",
              "  }\n",
              "\n",
              "  [theme=dark] .colab-df-quickchart {\n",
              "      --bg-color: #3B4455;\n",
              "      --fill-color: #D2E3FC;\n",
              "      --hover-bg-color: #434B5C;\n",
              "      --hover-fill-color: #FFFFFF;\n",
              "      --disabled-bg-color: #3B4455;\n",
              "      --disabled-fill-color: #666;\n",
              "  }\n",
              "\n",
              "  .colab-df-quickchart {\n",
              "    background-color: var(--bg-color);\n",
              "    border: none;\n",
              "    border-radius: 50%;\n",
              "    cursor: pointer;\n",
              "    display: none;\n",
              "    fill: var(--fill-color);\n",
              "    height: 32px;\n",
              "    padding: 0;\n",
              "    width: 32px;\n",
              "  }\n",
              "\n",
              "  .colab-df-quickchart:hover {\n",
              "    background-color: var(--hover-bg-color);\n",
              "    box-shadow: 0 1px 2px rgba(60, 64, 67, 0.3), 0 1px 3px 1px rgba(60, 64, 67, 0.15);\n",
              "    fill: var(--button-hover-fill-color);\n",
              "  }\n",
              "\n",
              "  .colab-df-quickchart-complete:disabled,\n",
              "  .colab-df-quickchart-complete:disabled:hover {\n",
              "    background-color: var(--disabled-bg-color);\n",
              "    fill: var(--disabled-fill-color);\n",
              "    box-shadow: none;\n",
              "  }\n",
              "\n",
              "  .colab-df-spinner {\n",
              "    border: 2px solid var(--fill-color);\n",
              "    border-color: transparent;\n",
              "    border-bottom-color: var(--fill-color);\n",
              "    animation:\n",
              "      spin 1s steps(1) infinite;\n",
              "  }\n",
              "\n",
              "  @keyframes spin {\n",
              "    0% {\n",
              "      border-color: transparent;\n",
              "      border-bottom-color: var(--fill-color);\n",
              "      border-left-color: var(--fill-color);\n",
              "    }\n",
              "    20% {\n",
              "      border-color: transparent;\n",
              "      border-left-color: var(--fill-color);\n",
              "      border-top-color: var(--fill-color);\n",
              "    }\n",
              "    30% {\n",
              "      border-color: transparent;\n",
              "      border-left-color: var(--fill-color);\n",
              "      border-top-color: var(--fill-color);\n",
              "      border-right-color: var(--fill-color);\n",
              "    }\n",
              "    40% {\n",
              "      border-color: transparent;\n",
              "      border-right-color: var(--fill-color);\n",
              "      border-top-color: var(--fill-color);\n",
              "    }\n",
              "    60% {\n",
              "      border-color: transparent;\n",
              "      border-right-color: var(--fill-color);\n",
              "    }\n",
              "    80% {\n",
              "      border-color: transparent;\n",
              "      border-right-color: var(--fill-color);\n",
              "      border-bottom-color: var(--fill-color);\n",
              "    }\n",
              "    90% {\n",
              "      border-color: transparent;\n",
              "      border-bottom-color: var(--fill-color);\n",
              "    }\n",
              "  }\n",
              "</style>\n",
              "\n",
              "  <script>\n",
              "    async function quickchart(key) {\n",
              "      const quickchartButtonEl =\n",
              "        document.querySelector('#' + key + ' button');\n",
              "      quickchartButtonEl.disabled = true;  // To prevent multiple clicks.\n",
              "      quickchartButtonEl.classList.add('colab-df-spinner');\n",
              "      try {\n",
              "        const charts = await google.colab.kernel.invokeFunction(\n",
              "            'suggestCharts', [key], {});\n",
              "      } catch (error) {\n",
              "        console.error('Error during call to suggestCharts:', error);\n",
              "      }\n",
              "      quickchartButtonEl.classList.remove('colab-df-spinner');\n",
              "      quickchartButtonEl.classList.add('colab-df-quickchart-complete');\n",
              "    }\n",
              "    (() => {\n",
              "      let quickchartButtonEl =\n",
              "        document.querySelector('#df-1a6f17c0-0bcc-4dcf-9773-109ce7a56cf5 button');\n",
              "      quickchartButtonEl.style.display =\n",
              "        google.colab.kernel.accessAllowed ? 'block' : 'none';\n",
              "    })();\n",
              "  </script>\n",
              "</div>\n",
              "    </div>\n",
              "  </div>\n"
            ],
            "application/vnd.google.colaboratory.intrinsic+json": {
              "type": "dataframe",
              "variable_name": "data",
              "summary": "{\n  \"name\": \"data\",\n  \"rows\": 8464,\n  \"fields\": [\n    {\n      \"column\": \"Index\",\n      \"properties\": {\n        \"dtype\": \"number\",\n        \"std\": 2443,\n        \"min\": 1,\n        \"max\": 8464,\n        \"num_unique_values\": 8464,\n        \"samples\": [\n          2267,\n          4687,\n          626\n        ],\n        \"semantic_type\": \"\",\n        \"description\": \"\"\n      }\n    },\n    {\n      \"column\": \"News\",\n      \"properties\": {\n        \"dtype\": \"string\",\n        \"num_unique_values\": 8359,\n        \"samples\": [\n          \"\\u1042\\u1040\\u1042\\u1042-\\u1042\\u1040\\u1042\\u1043 \\u1018\\u100f\\u1039\\u100d\\u102c\\u1014\\u103e\\u1005\\u103a \\u1027\\u1015\\u103c\\u102e \\u1041 \\u101b\\u1000\\u103a\\u1019\\u103e \\u1005\\u1000\\u103a\\u1010\\u1004\\u103a\\u1018\\u102c \\u1042\\u1049 \\u101b\\u1000\\u103a\\u1021\\u1011\\u102d \\u1015\\u103c\\u100a\\u103a\\u1015\\u1019\\u103e \\u1019\\u1031\\u102c\\u103a \\u1010\\u1031\\u102c\\u103a\\u101a\\u102c\\u1009\\u103a\\u1010\\u1004\\u103a\\u101e\\u103d\\u1004\\u103a\\u1038\\u1019\\u103e\\u102f\\u1021\\u1014\\u1031\\u1016\\u103c\\u1004\\u1037\\u103a \\u101c\\u1030\\u1005\\u102e\\u1038\\u101a\\u102c\\u1009\\u103a \\u1041\\u1041\\u1048 \\u1005\\u102e\\u1038\\u1010\\u1004\\u103a\\u101e\\u103d\\u1004\\u103a\\u1038\\u1019\\u103e\\u102f\\u1019\\u103e \\u1012\\u1031\\u102b\\u103a\\u101c\\u102c\\u1042 \\u1012\\u101e\\u1019 \\u1049\\u1043 \\u101e\\u1014\\u103a\\u1038\\u104a\\u1018\\u1010\\u103a\\u1005\\u103a\\u1000\\u102c\\u1038 \\u1041\\u1041\\u1043 \\u1005\\u102e\\u1038\\u1010\\u1004\\u103a\\u101e\\u103d\\u1004\\u103a\\u1038\\u1019\\u103e\\u102f\\u1019\\u103e \\u1012\\u1031\\u102b\\u103a \\u101c\\u102c \\u1041 \\u1012\\u101e\\u1019 \\u1048\\u1044 \\u101e\\u1014\\u103a\\u1038\\u104a \\u1011\\u101b\\u1015\\u103a\\u1000\\u102c\\u1038 \\u1044\\u1049\\u1047\\u00a0 \\u1005\\u102e\\u1038 \\u1010\\u1004\\u103a\\u101e\\u103d\\u1004\\u103a\\u1038\\u1019\\u103e\\u102f\\u1019\\u103e \\u1012\\u1031\\u102b\\u103a\\u101c\\u102c \\u1046 \\u1012\\u101e\\u1019 \\u1041\\u1049 \\u101e\\u1014\\u103a\\u1038\\u104a \\u101a\\u1014\\u1039\\u1010\\u101b\\u102c\\u1038 \\u1049\\u1049\\u1045 \\u1005\\u102e\\u1038\\u1010\\u1004\\u103a\\u101e\\u103d\\u1004\\u103a\\u1038\\u1019\\u103e\\u102f\\u1019\\u103e\\u1012\\u1031\\u102b\\u103a\\u101c\\u102c \\u1045\\u1045 \\u1012\\u101e\\u1019 \\u1047\\u1041 \\u101e\\u1014\\u103a\\u1038\\u104a \\u101a\\u102c\\u1009\\u103a\\u1021\\u1015\\u102d\\u102f\\u1015\\u1005\\u1039\\u1005\\u100a\\u103a\\u1038\\u1010\\u1004\\u103a\\u101e\\u103d\\u1004\\u103a\\u1038\\u1019\\u103e\\u102f\\u1019\\u103e\\u1012\\u1031\\u102b\\u103a\\u101c\\u102c \\u1043\\u1042\\u00a0 \\u1012\\u101e\\u1019 \\u1049\\u1044 \\u101e\\u1014\\u103a\\u1038\\u1016\\u103c\\u1004\\u1037\\u103a \\u1005\\u102f\\u1005\\u102f\\u1015\\u1031\\u102b\\u1004\\u103a\\u1038 \\u1012\\u1031\\u102b\\u103a\\u101c\\u102c \\u1049\\u1049 \\u1012\\u101e\\u1019 \\u1049\\u1041 \\u101e\\u1014\\u103a\\u1038\\u101b\\u103e\\u102d\\u101e\\u100a\\u103a\",\n          \"\\u1012\\u102b\\u1015\\u1031\\u1019\\u1032\\u1037 \\u1000\\u103b\\u103d\\u1014\\u103a\\u1010\\u1031\\u102c\\u103a\\u1001\\u1036\\u101a\\u1030\\u101c\\u102d\\u102f\\u1000\\u103a\\u1010\\u102c\\u1000 \\u1012\\u102e\\u1007\\u102c\\u1010\\u103a\\u1000\\u102c\\u1038\\u1019\\u103e\\u102c \\u1000\\u103b\\u103d\\u1014\\u103a\\u1010\\u1031\\u102c\\u103a\\u101e\\u100a\\u103a \\u1017\\u102d\\u102f\\u101c\\u103a\\u1001\\u103b\\u102f\\u1015\\u103a\\u1021\\u1031\\u102c\\u1004\\u103a\\u1006\\u1014\\u103a\\u1038\\u1014\\u1031\\u101b\\u102c\\u1000\\u1014\\u1031 \\u1015\\u102b\\u1040\\u1004\\u103a\\u101e\\u101b\\u102f\\u1015\\u103a\\u1006\\u1031\\u102c\\u1004\\u103a\\u1001\\u103d\\u1004\\u1037\\u103a\\u101b\\u1001\\u103c\\u1004\\u103a\\u1038\\u1000 \\u101c\\u1030\\u1016\\u103c\\u1005\\u103a\\u101b\\u1000\\u103b\\u102d\\u102f\\u1038\\u1014\\u1015\\u103a\\u1010\\u1032\\u1037\\u1021\\u101c\\u102f\\u1015\\u103a\\u1010\\u1005\\u103a\\u1001\\u102f\\u101c\\u102d\\u102f\\u1037 \\u1000\\u103b\\u103d\\u1014\\u103a\\u1010\\u1031\\u102c\\u103a\\u1001\\u1036\\u101a\\u1030\\u1001\\u1032\\u1037\\u1010\\u101a\\u103a\",\n          \"(\\u101c\\u1004\\u103a\\u1019\\u101a\\u102c\\u1038\\u1014\\u103e\\u1005\\u103a\\u101a\\u1031\\u102c\\u1000\\u103a\\u1000 \\u1021\\u101c\\u102f\\u1015\\u103a\\u101e\\u103d\\u102c\\u1038\\u1010\\u101a\\u103a\"\n        ],\n        \"semantic_type\": \"\",\n        \"description\": \"\"\n      }\n    },\n    {\n      \"column\": \"Category\",\n      \"properties\": {\n        \"dtype\": \"category\",\n        \"num_unique_values\": 4,\n        \"samples\": [\n          \"crime\",\n          \"politic\",\n          \"business\"\n        ],\n        \"semantic_type\": \"\",\n        \"description\": \"\"\n      }\n    },\n    {\n      \"column\": \"category_id\",\n      \"properties\": {\n        \"dtype\": \"number\",\n        \"std\": 1,\n        \"min\": 0,\n        \"max\": 3,\n        \"num_unique_values\": 4,\n        \"samples\": [\n          1,\n          3,\n          0\n        ],\n        \"semantic_type\": \"\",\n        \"description\": \"\"\n      }\n    }\n  ]\n}"
            }
          },
          "metadata": {},
          "execution_count": 8
        }
      ]
    },
    {
      "cell_type": "code",
      "source": [
        "data.isnull().sum()"
      ],
      "metadata": {
        "colab": {
          "base_uri": "https://localhost:8080/"
        },
        "id": "PEmJTxLX7vWe",
        "outputId": "3c0d8807-bd36-4005-e154-ba46502e9d80"
      },
      "execution_count": 9,
      "outputs": [
        {
          "output_type": "execute_result",
          "data": {
            "text/plain": [
              "Index          0\n",
              "News           0\n",
              "Category       0\n",
              "category_id    0\n",
              "dtype: int64"
            ]
          },
          "metadata": {},
          "execution_count": 9
        }
      ]
    },
    {
      "cell_type": "markdown",
      "source": [
        "### Visualization the segmented sentences for each category."
      ],
      "metadata": {
        "id": "of4NL2Wu70UZ"
      }
    },
    {
      "cell_type": "code",
      "source": [
        "colslist = ['Index','News', 'Category', 'category_id']\n",
        "data.columns = colslist\n",
        "data.groupby('Category').Index.count().plot.bar(ylim=0)"
      ],
      "metadata": {
        "colab": {
          "base_uri": "https://localhost:8080/",
          "height": 552
        },
        "id": "TTk4UT4N7yHg",
        "outputId": "cf6d3054-8207-412e-ac2d-9344a28385e2"
      },
      "execution_count": 10,
      "outputs": [
        {
          "output_type": "execute_result",
          "data": {
            "text/plain": [
              "<Axes: xlabel='Category'>"
            ]
          },
          "metadata": {},
          "execution_count": 10
        },
        {
          "output_type": "display_data",
          "data": {
            "text/plain": [
              "<Figure size 640x480 with 1 Axes>"
            ],
            "image/png": "[encoded data removed]"
          },
          "metadata": {}
        }
      ]
    },
    {
      "cell_type": "markdown",
      "source": [
        "### Stopword Loading"
      ],
      "metadata": {
        "id": "Nwnrj8618AQY"
      }
    },
    {
      "cell_type": "code",
      "source": [
        "stopwordslist = []\n",
        "slist = []\n",
        "with open(\"stopwords.txt\", encoding = 'utf8') as stopwordsfile:\n",
        "    stopwords = stopwordsfile.readlines()\n",
        "    slist.extend(stopwords)\n",
        "    for w in range(len(slist)):\n",
        "        temp = slist[w]\n",
        "        stopwordslist.append(temp.rstrip())"
      ],
      "metadata": {
        "id": "nefECR9E77Q1"
      },
      "execution_count": 11,
      "outputs": []
    },
    {
      "cell_type": "code",
      "source": [
        "for i in stopwordslist:\n",
        "  print(i)"
      ],
      "metadata": {
        "colab": {
          "base_uri": "https://localhost:8080/"
        },
        "id": "rPB_4DXY8CT6",
        "outputId": "ff3fe0ff-4b32-4ca3-abd5-f98411061153"
      },
      "execution_count": 12,
      "outputs": [
        {
          "output_type": "stream",
          "name": "stdout",
          "text": [
            "က\n",
            "ကတည်းက\n",
            "ကတော့\n",
            "ကပ\n",
            "ကဘာ\n",
            "ကရ\n",
            "ကလ\n",
            "ကလူ\n",
            "ကာ\n",
            "ကာလ\n",
            "ကို\n",
            "ကိုယ့်\n",
            "ကိုယ်တိုင်\n",
            "ကုန်\n",
            "ကေ\n",
            "ကော\n",
            "ကဲ\n",
            "ကျ\n",
            "ကျန\n",
            "ကျော်\n",
            "ကျွန်တော့်\n",
            "ကျွန်တော်\n",
            "ကျွန်မ\n",
            "ကြ\n",
            "ကြာ\n",
            "ကြာတော့\n",
            "ကြိမ်မြောက်\n",
            "ကြီး\n",
            "ကြောင်း\n",
            "ခင်\n",
            "ခဏခဏ\n",
            "ခန့်\n",
            "ခါ\n",
            "ခု\n",
            "ခုချိန်\n",
            "ခဲ့\n",
            "ခံ\n",
            "ချ\n",
            "ချင်\n",
            "ချင်း\n",
            "ချိန်\n",
            "ခြင်း\n",
            "စက\n",
            "စဉ်\n",
            "စရာ\n",
            "စသည့်\n",
            "စာ\n",
            "စီ\n",
            "စီး\n",
            "စု\n",
            "စုံ\n",
            "စေ\n",
            "စေသော\n",
            "စွာ\n",
            "ဆ\n",
            "ဆက်\n",
            "ဆန\n",
            "ဆို\n",
            "ဆိုင်ရာ\n",
            "ဆိုပြီး\n",
            "ဆိုသည်\n",
            "ည\n",
            "ညနေ\n",
            "ညီ\n",
            "တ\n",
            "တကယ်\n",
            "တက်\n",
            "တချို့\n",
            "တခြား\n",
            "တင်\n",
            "တစ်ဆင့်\n",
            "တစ်ဦး\n",
            "တည်း\n",
            "တတ်\n",
            "တန\n",
            "တယ်\n",
            "တာ\n",
            "တာကို\n",
            "တို\n",
            "တိုင်း\n",
            "တို့\n",
            "တို့သည်\n",
            "တိုး\n",
            "တီ\n",
            "တုန်း\n",
            "တော့\n",
            "တော်\n",
            "တော်တော်လေး\n",
            "တဲ့\n",
            "တွင်\n",
            "တွေ\n",
            "တွေ့\n",
            "ထက်\n",
            "ထင်\n",
            "ထပ်\n",
            "ထား\n",
            "ထားသည်\n",
            "ထိ\n",
            "ထို\n",
            "ထိုသို့\n",
            "ထို့အပြင်\n",
            "ထုတ်\n",
            "ထူး\n",
            "ထဲ\n",
            "ထဲက\n",
            "ထံ\n",
            "ထွက်\n",
            "ထွန်း\n",
            "ထွေ\n",
            "ထွေထွေထူးထူး\n",
            "ဒါ\n",
            "ဒါကို\n",
            "ဒါကြောင့်\n",
            "ဒါတွေ\n",
            "ဒါတွေက\n",
            "ဒါနဲ့\n",
            "ဒါပေမဲ့\n",
            "ဒါလေး\n",
            "ဒါ့အပြင်\n",
            "ဒီ\n",
            "ဒီထက်\n",
            "ဒီနေ့\n",
            "ဒီမှာ\n",
            "ဒီလို\n",
            "ဒု\n",
            "နက်\n",
            "နဂို\n",
            "နည်း\n",
            "နား\n",
            "နိုင်\n",
            "နိုင်သည်\n",
            "နီ\n",
            "နေ\n",
            "နေကျ\n",
            "နောက်\n",
            "နောက်ဆုံး\n",
            "နောက်တစ်ခု\n",
            "နောက်ထပ်\n",
            "နောက်ပြီး\n",
            "နော့\n",
            "နော်\n",
            "နေ့\n",
            "နဲ့\n",
            "နှင့်\n",
            "နှင့်အတူ\n",
            "ပ\n",
            "ပင\n",
            "ပတ\n",
            "ပတ်သက်\n",
            "ပါ\n",
            "ပါပ\n",
            "ပါဝင်\n",
            "ပါသည်\n",
            "ပိတ်\n",
            "ပို\n",
            "ပိုင်း\n",
            "ပိုမို\n",
            "ပို့\n",
            "ပုံ\n",
            "ပေ\n",
            "ပေါ\n",
            "ပေါင်း\n",
            "ပေါ့\n",
            "ပေါ်\n",
            "ပေး\n",
            "ပျော်\n",
            "ပြ\n",
            "ပြန်\n",
            "ပြီ\n",
            "ပြီး\n",
            "ပြီးခဲ့သည့်\n",
            "ပြီးတော့\n",
            "ပြု\n",
            "ပြော\n",
            "ပြောကြား\n",
            "ပြောသည်\n",
            "ပြဲ\n",
            "ပွဲ\n",
            "ဖ\n",
            "ဖက်\n",
            "ဖို့\n",
            "ဖူး\n",
            "ဖော်\n",
            "ဖြင့်\n",
            "ဖြစ်\n",
            "ဖြစ်ကြောင်း\n",
            "ဖြစ်တယ်\n",
            "ဖြစ်ပါတယ်\n",
            "ဖြစ်ပြီး\n",
            "ဖြစ်လာ\n",
            "ဖြစ်သည်\n",
            "ဖွ\n",
            "ဖွဲ့\n",
            "ဘ\n",
            "ဘက်\n",
            "ဘယ\n",
            "ဘယ်လို\n",
            "ဘာ\n",
            "ဘူး\n",
            "ဘဲ\n",
            "မ\n",
            "မက\n",
            "မင်း\n",
            "မစ\n",
            "မည့်\n",
            "မည်\n",
            "မည်သို့\n",
            "မန\n",
            "မမ\n",
            "မယ့်\n",
            "မယ်\n",
            "မရှိ\n",
            "မရှိသလောက်\n",
            "မရှိသေး\n",
            "မသိ\n",
            "မဟုတ်\n",
            "မာ\n",
            "မိ\n",
            "မိမိ\n",
            "မေ\n",
            "မေး\n",
            "မဲ့\n",
            "များ\n",
            "များသည်\n",
            "မျိုး\n",
            "မျှ\n",
            "မြင့်\n",
            "မြင်\n",
            "မှ\n",
            "မှစ၍\n",
            "မှန် !\n",
            "မှာ\n",
            "မှု\n",
            "ယ\n",
            "ယခင်\n",
            "ယခု\n",
            "ယခုခေတ်\n",
            "ယင်း\n",
            "ယင်းကဲ့သို့\n",
            "ယင်းသို့\n",
            "ယူ\n",
            "ယောက်\n",
            "ရ\n",
            "ရက်\n",
            "ရင်\n",
            "ရင်း\n",
            "ရတာ\n",
            "ရန်\n",
            "ရပ်\n",
            "ရရှိ\n",
            "ရရှိမည်\n",
            "ရလာ\n",
            "ရာ\n",
            "ရာတွင်\n",
            "ရာ၌\n",
            "ရီ\n",
            "ရေ\n",
            "ရော\n",
            "ရောက်\n",
            "ရောက်ရှိ\n",
            "ရေး\n",
            "ရဲ့\n",
            "ရွယ်\n",
            "ရှင့်\n",
            "ရှင်\n",
            "ရှင်း\n",
            "ရှိ\n",
            "ရှိပါတယ်\n",
            "ရှိသည်\n",
            "ရှေ့\n",
            "လ\n",
            "လက်\n",
            "လက်ရှိ\n",
            "လည်း\n",
            "လာ\n",
            "လာမည့်\n",
            "လာရောက်\n",
            "လား\n",
            "လိမ့်\n",
            "လို\n",
            "လိုက်\n",
            "လို့\n",
            "လုံး\n",
            "လုံးဝ\n",
            "လူ\n",
            "လောက်\n",
            "လောလောဆယ်\n",
            "လေး\n",
            "လဲ\n",
            "လဲဆို\n",
            "လျက်\n",
            "လျှင်\n",
            "လွန်\n",
            "ဝင်\n",
            "ဝင်း\n",
            "သ\n",
            "သက်\n",
            "သက်ဆိုင်ရာ\n",
            "သင့်\n",
            "သစ်\n",
            "သည့်\n",
            "သည့်အတွက်\n",
            "သည်\n",
            "သည်နှင့်\n",
            "သတ်\n",
            "သဖြင့်\n",
            "သလို\n",
            "သာ\n",
            "သိ\n",
            "သိန်း\n",
            "သိပ်\n",
            "သိရ\n",
            "သိရသည်\n",
            "သိရှိ\n",
            "သို့\n",
            "သို့မဟုတ်\n",
            "သို့သော်\n",
            "သုံး\n",
            "သူ\n",
            "သူမ\n",
            "သူများ\n",
            "သူ့\n",
            "သေ\n",
            "သေသေချာချာ\n",
            "သော\n",
            "သောကြောင့်\n",
            "သော်လည်း\n",
            "သေး\n",
            "သွား\n",
            "ဟန်\n",
            "ဟာ\n",
            "ဟို\n",
            "ဟီး\n",
            "ဟု\n",
            "ဟုတ်\n",
            "ဟူ\n",
            "ဟော\n",
            "ဟဲဟဲ\n",
            "အ\n",
            "အက\n",
            "အကြိမ်\n",
            "အခ\n",
            "အခါ\n",
            "အခု\n",
            "အခုတလော\n",
            "အခုလို\n",
            "အခုဟာ\n",
            "အချက်\n",
            "အချို့\n",
            "အခြား\n",
            "အင်\n",
            "အစ\n",
            "အစွမ်းကုန်\n",
            "အဆိုပါ\n",
            "အတူ\n",
            "အတွက်\n",
            "အတွင်း\n",
            "အထက်ပါ\n",
            "အထိ\n",
            "အထူး\n",
            "အထူးသဖြင့်\n",
            "အနေ\n",
            "အနေဖြင့်\n",
            "အပ\n",
            "အပါအဝင်\n",
            "အပေါ်\n",
            "အပြင်\n",
            "အဖြစ်\n",
            "အမ\n",
            "အရ\n",
            "အရင်\n",
            "အရင်က\n",
            "အရမ်း\n",
            "အလိုက်\n",
            "အလိုလို\n",
            "အား\n",
            "အားဖြင့်\n",
            "အားလုံး\n",
            "အို\n",
            "အောက်\n",
            "အောင်\n",
            "အေး\n",
            "အဲ\n",
            "အဲဒီ\n",
            "အဲဒီလို\n",
            "အဲ့\n",
            "ဥပမာ\n",
            "ဦး\n",
            "၌\n",
            "၍\n",
            "၎င်း\n",
            "၏\n",
            "‘\n",
            "–\n",
            "“\n"
          ]
        }
      ]
    },
    {
      "cell_type": "markdown",
      "source": [
        "### Preprocessing"
      ],
      "metadata": {
        "id": "NlcE48_w8JfJ"
      }
    },
    {
      "cell_type": "code",
      "source": [
        "import pyidaungsu as pds\n",
        "import re\n",
        "\n",
        "# CleanPattern = re.compile(r'\\d+|[၊။!-/:_\\'’\"”■—[-`{-~\\t ]|[A-Za-z0-9]')\n",
        "CleanPattern = re.compile(r'\\d+|[၊။!-/:_\\'’\"”■—[-`{-~\\t ]')\n",
        "def clean_sentence(sentence):\n",
        "     # sentence = sentence.replace(\"_\",\" \")\n",
        "     sent = CleanPattern.sub(\" \",str(sentence))\n",
        "     return sent\n",
        "\n",
        "# Removed everything from the stopword list.\n",
        "def stop_word(sentence):\n",
        "  new_sentence = []\n",
        "  for word in sentence.split():\n",
        "    if word not in stopwordslist:\n",
        "      new_sentence.append(word)\n",
        "  return(' '.join(new_sentence))\n",
        "\n",
        "\n",
        "def tokenize(line): # Changing it into one word structure.\n",
        "    line = clean_sentence(line)\n",
        "    sentence = pds.tokenize(line,form=\"word\")\n",
        "    sentence = ' '.join([str(elem) for elem in sentence])\n",
        "    sentence = stop_word(sentence)\n",
        "    return sentence\n",
        "\n",
        "data['News'] = data['News'].apply(tokenize)\n",
        "data.head(10)\n",
        "\n",
        "\n",
        "# One or more digits.\n",
        "# Specific Burmese characters (၊။).\n",
        "# Various special characters.\n",
        "# Uppercase and lowercase letters."
      ],
      "metadata": {
        "colab": {
          "base_uri": "https://localhost:8080/",
          "height": 363
        },
        "id": "oQ7jxFPQ8EFU",
        "outputId": "91f34114-46a8-4d74-dcfd-6ce6766f0b63"
      },
      "execution_count": 13,
      "outputs": [
        {
          "output_type": "execute_result",
          "data": {
            "text/plain": [
              "   Index                                               News  Category  \\\n",
              "0      1  တီကျစ်ကျောက်မီးသွေး ဓာတ်အားပေး စက်ရုံ သက်တမ်း ...  business   \n",
              "1      2  ရှမ်း ပြည်နယ် ကျောက်မီးသွေးသုံး ဓာတ်အားပေး စက်...  business   \n",
              "2      3                                      အရင်တုန်းကပြာ  business   \n",
              "3      4                                         မီးခိုးနံ့  business   \n",
              "4      5                            ဟိုတုန်း စက် ဟောင်းစုတ်  business   \n",
              "5      6                                           စက် ပြင်  business   \n",
              "6      7  ကမ္ဘာ့ ဘဏ် သတ်မှတ် ချက်နှုန်းပတ်န်းကျင် ထိန်းသ...  business   \n",
              "7      8  စက်ရုံ တရုတ် ကုမ္ပဏီ စနစ်တကျ ပြုပြင် အမျိုးသား...  business   \n",
              "8      9  အဆို ပါတီ ကျစ်ကျောက်မီးသွေး စက်ရုံ တရုတ် WuxiH...  business   \n",
              "9     10  စက်ရုံ လျှပ်စစ်ဓာတ်အား စက်တပ်ဆင် မဂ္ဂါပ် မဂ္ဂါ...  business   \n",
              "\n",
              "   category_id  \n",
              "0            0  \n",
              "1            0  \n",
              "2            0  \n",
              "3            0  \n",
              "4            0  \n",
              "5            0  \n",
              "6            0  \n",
              "7            0  \n",
              "8            0  \n",
              "9            0  "
            ],
            "text/html": [
              "\n",
              "  <div id=\"df-46f496b3-88a1-4d80-9701-52f0226069b2\" class=\"colab-df-container\">\n",
              "    <div>\n",
              "<style scoped>\n",
              "    .dataframe tbody tr th:only-of-type {\n",
              "        vertical-align: middle;\n",
              "    }\n",
              "\n",
              "    .dataframe tbody tr th {\n",
              "        vertical-align: top;\n",
              "    }\n",
              "\n",
              "    .dataframe thead th {\n",
              "        text-align: right;\n",
              "    }\n",
              "</style>\n",
              "<table border=\"1\" class=\"dataframe\">\n",
              "  <thead>\n",
              "    <tr style=\"text-align: right;\">\n",
              "      <th></th>\n",
              "      <th>Index</th>\n",
              "      <th>News</th>\n",
              "      <th>Category</th>\n",
              "      <th>category_id</th>\n",
              "    </tr>\n",
              "  </thead>\n",
              "  <tbody>\n",
              "    <tr>\n",
              "      <th>0</th>\n",
              "      <td>1</td>\n",
              "      <td>တီကျစ်ကျောက်မီးသွေး ဓာတ်အားပေး စက်ရုံ သက်တမ်း ...</td>\n",
              "      <td>business</td>\n",
              "      <td>0</td>\n",
              "    </tr>\n",
              "    <tr>\n",
              "      <th>1</th>\n",
              "      <td>2</td>\n",
              "      <td>ရှမ်း ပြည်နယ် ကျောက်မီးသွေးသုံး ဓာတ်အားပေး စက်...</td>\n",
              "      <td>business</td>\n",
              "      <td>0</td>\n",
              "    </tr>\n",
              "    <tr>\n",
              "      <th>2</th>\n",
              "      <td>3</td>\n",
              "      <td>အရင်တုန်းကပြာ</td>\n",
              "      <td>business</td>\n",
              "      <td>0</td>\n",
              "    </tr>\n",
              "    <tr>\n",
              "      <th>3</th>\n",
              "      <td>4</td>\n",
              "      <td>မီးခိုးနံ့</td>\n",
              "      <td>business</td>\n",
              "      <td>0</td>\n",
              "    </tr>\n",
              "    <tr>\n",
              "      <th>4</th>\n",
              "      <td>5</td>\n",
              "      <td>ဟိုတုန်း စက် ဟောင်းစုတ်</td>\n",
              "      <td>business</td>\n",
              "      <td>0</td>\n",
              "    </tr>\n",
              "    <tr>\n",
              "      <th>5</th>\n",
              "      <td>6</td>\n",
              "      <td>စက် ပြင်</td>\n",
              "      <td>business</td>\n",
              "      <td>0</td>\n",
              "    </tr>\n",
              "    <tr>\n",
              "      <th>6</th>\n",
              "      <td>7</td>\n",
              "      <td>ကမ္ဘာ့ ဘဏ် သတ်မှတ် ချက်နှုန်းပတ်န်းကျင် ထိန်းသ...</td>\n",
              "      <td>business</td>\n",
              "      <td>0</td>\n",
              "    </tr>\n",
              "    <tr>\n",
              "      <th>7</th>\n",
              "      <td>8</td>\n",
              "      <td>စက်ရုံ တရုတ် ကုမ္ပဏီ စနစ်တကျ ပြုပြင် အမျိုးသား...</td>\n",
              "      <td>business</td>\n",
              "      <td>0</td>\n",
              "    </tr>\n",
              "    <tr>\n",
              "      <th>8</th>\n",
              "      <td>9</td>\n",
              "      <td>အဆို ပါတီ ကျစ်ကျောက်မီးသွေး စက်ရုံ တရုတ် WuxiH...</td>\n",
              "      <td>business</td>\n",
              "      <td>0</td>\n",
              "    </tr>\n",
              "    <tr>\n",
              "      <th>9</th>\n",
              "      <td>10</td>\n",
              "      <td>စက်ရုံ လျှပ်စစ်ဓာတ်အား စက်တပ်ဆင် မဂ္ဂါပ် မဂ္ဂါ...</td>\n",
              "      <td>business</td>\n",
              "      <td>0</td>\n",
              "    </tr>\n",
              "  </tbody>\n",
              "</table>\n",
              "</div>\n",
              "    <div class=\"colab-df-buttons\">\n",
              "\n",
              "  <div class=\"colab-df-container\">\n",
              "    <button class=\"colab-df-convert\" onclick=\"convertToInteractive('df-46f496b3-88a1-4d80-9701-52f0226069b2')\"\n",
              "            title=\"Convert this dataframe to an interactive table.\"\n",
              "            style=\"display:none;\">\n",
              "\n",
              "  <svg xmlns=\"http://www.w3.org/2000/svg\" height=\"24px\" viewBox=\"0 -960 960 960\">\n",
              "    <path d=\"M120-120v-720h720v720H120Zm60-500h600v-160H180v160Zm220 220h160v-160H400v160Zm0 220h160v-160H400v160ZM180-400h160v-160H180v160Zm440 0h160v-160H620v160ZM180-180h160v-160H180v160Zm440 0h160v-160H620v160Z\"/>\n",
              "  </svg>\n",
              "    </button>\n",
              "\n",
              "  <style>\n",
              "    .colab-df-container {\n",
              "      display:flex;\n",
              "      gap: 12px;\n",
              "    }\n",
              "\n",
              "    .colab-df-convert {\n",
              "      background-color: #E8F0FE;\n",
              "      border: none;\n",
              "      border-radius: 50%;\n",
              "      cursor: pointer;\n",
              "      display: none;\n",
              "      fill: #1967D2;\n",
              "      height: 32px;\n",
              "      padding: 0 0 0 0;\n",
              "      width: 32px;\n",
              "    }\n",
              "\n",
              "    .colab-df-convert:hover {\n",
              "      background-color: #E2EBFA;\n",
              "      box-shadow: 0px 1px 2px rgba(60, 64, 67, 0.3), 0px 1px 3px 1px rgba(60, 64, 67, 0.15);\n",
              "      fill: #174EA6;\n",
              "    }\n",
              "\n",
              "    .colab-df-buttons div {\n",
              "      margin-bottom: 4px;\n",
              "    }\n",
              "\n",
              "    [theme=dark] .colab-df-convert {\n",
              "      background-color: #3B4455;\n",
              "      fill: #D2E3FC;\n",
              "    }\n",
              "\n",
              "    [theme=dark] .colab-df-convert:hover {\n",
              "      background-color: #434B5C;\n",
              "      box-shadow: 0px 1px 3px 1px rgba(0, 0, 0, 0.15);\n",
              "      filter: drop-shadow(0px 1px 2px rgba(0, 0, 0, 0.3));\n",
              "      fill: #FFFFFF;\n",
              "    }\n",
              "  </style>\n",
              "\n",
              "    <script>\n",
              "      const buttonEl =\n",
              "        document.querySelector('#df-46f496b3-88a1-4d80-9701-52f0226069b2 button.colab-df-convert');\n",
              "      buttonEl.style.display =\n",
              "        google.colab.kernel.accessAllowed ? 'block' : 'none';\n",
              "\n",
              "      async function convertToInteractive(key) {\n",
              "        const element = document.querySelector('#df-46f496b3-88a1-4d80-9701-52f0226069b2');\n",
              "        const dataTable =\n",
              "          await google.colab.kernel.invokeFunction('convertToInteractive',\n",
              "                                                    [key], {});\n",
              "        if (!dataTable) return;\n",
              "\n",
              "        const docLinkHtml = 'Like what you see? Visit the ' +\n",
              "          '<a target=\"_blank\" href=https://colab.research.google.com/notebooks/data_table.ipynb>data table notebook</a>'\n",
              "          + ' to learn more about interactive tables.';\n",
              "        element.innerHTML = '';\n",
              "        dataTable['output_type'] = 'display_data';\n",
              "        await google.colab.output.renderOutput(dataTable, element);\n",
              "        const docLink = document.createElement('div');\n",
              "        docLink.innerHTML = docLinkHtml;\n",
              "        element.appendChild(docLink);\n",
              "      }\n",
              "    </script>\n",
              "  </div>\n",
              "\n",
              "\n",
              "<div id=\"df-3a29b51f-e7a8-4a31-95ba-1d25bdb9379e\">\n",
              "  <button class=\"colab-df-quickchart\" onclick=\"quickchart('df-3a29b51f-e7a8-4a31-95ba-1d25bdb9379e')\"\n",
              "            title=\"Suggest charts\"\n",
              "            style=\"display:none;\">\n",
              "\n",
              "<svg xmlns=\"http://www.w3.org/2000/svg\" height=\"24px\"viewBox=\"0 0 24 24\"\n",
              "     width=\"24px\">\n",
              "    <g>\n",
              "        <path d=\"M19 3H5c-1.1 0-2 .9-2 2v14c0 1.1.9 2 2 2h14c1.1 0 2-.9 2-2V5c0-1.1-.9-2-2-2zM9 17H7v-7h2v7zm4 0h-2V7h2v10zm4 0h-2v-4h2v4z\"/>\n",
              "    </g>\n",
              "</svg>\n",
              "  </button>\n",
              "\n",
              "<style>\n",
              "  .colab-df-quickchart {\n",
              "      --bg-color: #E8F0FE;\n",
              "      --fill-color: #1967D2;\n",
              "      --hover-bg-color: #E2EBFA;\n",
              "      --hover-fill-color: #174EA6;\n",
              "      --disabled-fill-color: #AAA;\n",
              "      --disabled-bg-color: #DDD;\n",
              "  }\n",
              "\n",
              "  [theme=dark] .colab-df-quickchart {\n",
              "      --bg-color: #3B4455;\n",
              "      --fill-color: #D2E3FC;\n",
              "      --hover-bg-color: #434B5C;\n",
              "      --hover-fill-color: #FFFFFF;\n",
              "      --disabled-bg-color: #3B4455;\n",
              "      --disabled-fill-color: #666;\n",
              "  }\n",
              "\n",
              "  .colab-df-quickchart {\n",
              "    background-color: var(--bg-color);\n",
              "    border: none;\n",
              "    border-radius: 50%;\n",
              "    cursor: pointer;\n",
              "    display: none;\n",
              "    fill: var(--fill-color);\n",
              "    height: 32px;\n",
              "    padding: 0;\n",
              "    width: 32px;\n",
              "  }\n",
              "\n",
              "  .colab-df-quickchart:hover {\n",
              "    background-color: var(--hover-bg-color);\n",
              "    box-shadow: 0 1px 2px rgba(60, 64, 67, 0.3), 0 1px 3px 1px rgba(60, 64, 67, 0.15);\n",
              "    fill: var(--button-hover-fill-color);\n",
              "  }\n",
              "\n",
              "  .colab-df-quickchart-complete:disabled,\n",
              "  .colab-df-quickchart-complete:disabled:hover {\n",
              "    background-color: var(--disabled-bg-color);\n",
              "    fill: var(--disabled-fill-color);\n",
              "    box-shadow: none;\n",
              "  }\n",
              "\n",
              "  .colab-df-spinner {\n",
              "    border: 2px solid var(--fill-color);\n",
              "    border-color: transparent;\n",
              "    border-bottom-color: var(--fill-color);\n",
              "    animation:\n",
              "      spin 1s steps(1) infinite;\n",
              "  }\n",
              "\n",
              "  @keyframes spin {\n",
              "    0% {\n",
              "      border-color: transparent;\n",
              "      border-bottom-color: var(--fill-color);\n",
              "      border-left-color: var(--fill-color);\n",
              "    }\n",
              "    20% {\n",
              "      border-color: transparent;\n",
              "      border-left-color: var(--fill-color);\n",
              "      border-top-color: var(--fill-color);\n",
              "    }\n",
              "    30% {\n",
              "      border-color: transparent;\n",
              "      border-left-color: var(--fill-color);\n",
              "      border-top-color: var(--fill-color);\n",
              "      border-right-color: var(--fill-color);\n",
              "    }\n",
              "    40% {\n",
              "      border-color: transparent;\n",
              "      border-right-color: var(--fill-color);\n",
              "      border-top-color: var(--fill-color);\n",
              "    }\n",
              "    60% {\n",
              "      border-color: transparent;\n",
              "      border-right-color: var(--fill-color);\n",
              "    }\n",
              "    80% {\n",
              "      border-color: transparent;\n",
              "      border-right-color: var(--fill-color);\n",
              "      border-bottom-color: var(--fill-color);\n",
              "    }\n",
              "    90% {\n",
              "      border-color: transparent;\n",
              "      border-bottom-color: var(--fill-color);\n",
              "    }\n",
              "  }\n",
              "</style>\n",
              "\n",
              "  <script>\n",
              "    async function quickchart(key) {\n",
              "      const quickchartButtonEl =\n",
              "        document.querySelector('#' + key + ' button');\n",
              "      quickchartButtonEl.disabled = true;  // To prevent multiple clicks.\n",
              "      quickchartButtonEl.classList.add('colab-df-spinner');\n",
              "      try {\n",
              "        const charts = await google.colab.kernel.invokeFunction(\n",
              "            'suggestCharts', [key], {});\n",
              "      } catch (error) {\n",
              "        console.error('Error during call to suggestCharts:', error);\n",
              "      }\n",
              "      quickchartButtonEl.classList.remove('colab-df-spinner');\n",
              "      quickchartButtonEl.classList.add('colab-df-quickchart-complete');\n",
              "    }\n",
              "    (() => {\n",
              "      let quickchartButtonEl =\n",
              "        document.querySelector('#df-3a29b51f-e7a8-4a31-95ba-1d25bdb9379e button');\n",
              "      quickchartButtonEl.style.display =\n",
              "        google.colab.kernel.accessAllowed ? 'block' : 'none';\n",
              "    })();\n",
              "  </script>\n",
              "</div>\n",
              "    </div>\n",
              "  </div>\n"
            ],
            "application/vnd.google.colaboratory.intrinsic+json": {
              "type": "dataframe",
              "summary": "{\n  \"name\": \"# Uppercase and lowercase letters\",\n  \"rows\": 10,\n  \"fields\": [\n    {\n      \"column\": \"Index\",\n      \"properties\": {\n        \"dtype\": \"number\",\n        \"std\": 3,\n        \"min\": 1,\n        \"max\": 10,\n        \"num_unique_values\": 10,\n        \"samples\": [\n          9,\n          2,\n          6\n        ],\n        \"semantic_type\": \"\",\n        \"description\": \"\"\n      }\n    },\n    {\n      \"column\": \"News\",\n      \"properties\": {\n        \"dtype\": \"string\",\n        \"num_unique_values\": 10,\n        \"samples\": [\n          \"\\u1021\\u1006\\u102d\\u102f \\u1015\\u102b\\u1010\\u102e \\u1000\\u103b\\u1005\\u103a\\u1000\\u103b\\u1031\\u102c\\u1000\\u103a\\u1019\\u102e\\u1038\\u101e\\u103d\\u1031\\u1038 \\u1005\\u1000\\u103a\\u101b\\u102f\\u1036 \\u1010\\u101b\\u102f\\u1010\\u103a WuxiHua Guang \\u101c\\u103b\\u103e\\u1015\\u103a\\u1005\\u1005\\u103a\\u1005\\u103d\\u1019\\u103a\\u1038\\u1021\\u1004\\u103a \\u1000\\u102f\\u1019\\u1039\\u1015\\u100f\\u102e \\u1000\\u1010\\u1004\\u103a\\u1012\\u102b \\u1021\\u1031\\u102c\\u1004\\u103a\\u1019\\u103c\\u1004\\u103a \\u1012\\u1031\\u101e\\u1001\\u1036 \\u101e\\u1018\\u1031\\u102c\\u1010\\u1030\\u100a\\u102e \\u1010\\u1005\\u103a \\u1014\\u103e\\u1005\\u103a \\u1005\\u1019\\u103a\\u1038\\u101e\\u1015\\u103a \\u101c\\u100a\\u103a\\u1015\\u1010\\u103a \\u1001\\u103d\\u1004\\u1037\\u103a\",\n          \"\\u101b\\u103e\\u1019\\u103a\\u1038 \\u1015\\u103c\\u100a\\u103a\\u1014\\u101a\\u103a \\u1000\\u103b\\u1031\\u102c\\u1000\\u103a\\u1019\\u102e\\u1038\\u101e\\u103d\\u1031\\u1038\\u101e\\u102f\\u1036\\u1038 \\u1013\\u102c\\u1010\\u103a\\u1021\\u102c\\u1038\\u1015\\u1031\\u1038 \\u1005\\u1000\\u103a\\u101b\\u102f\\u1036 \\u1005\\u1019\\u103a\\u1038\\u101e\\u1015\\u103a \\u101c\\u100a\\u103a\\u1015\\u1010\\u103a \\u101b\\u102c\\u1010\\u1005\\u103a \\u1014\\u103e\\u1005\\u103a \\u1015\\u103c\\u100a\\u1037\\u103a \\u1011\\u1015\\u103a\\u1019\\u1036 \\u101e\\u1000\\u103a\\u1010\\u1019\\u103a\\u1038 \\u1005\\u102e\\u1005\\u1009\\u103a \\u1015\\u103c\\u100a\\u103a\\u1011\\u1031\\u102c\\u1004\\u103a\\u1005\\u102f \\u1021\\u1005\\u102d\\u102f\\u1038\\u101b \\u1021\\u1016\\u103d\\u1032\\u1037 \\u101e\\u1019\\u1039\\u1019\\u1010\\u101b\\u102f\\u1036\\u1038 \\u101e\\u102d\\u102f\\u1037\\u1010\\u1004\\u103a\\u1015\\u103c \\u101c\\u103b\\u103e\\u1015\\u103a\\u1005\\u1005\\u103a\\u1013\\u102c\\u1010\\u103a \\u1021\\u102c\\u1038\\u1011\\u102f\\u1010\\u103a\\u101c\\u102f\\u1015\\u103a \\u101c\\u102f\\u1015\\u103a\\u1004\\u1014\\u103a\\u1038\\u1025\\u102e\\u1038\\u1006\\u1031\\u102c\\u1004\\u103a\\u100a\\u103d\\u103e\\u1014\\u103a\\u1000\\u103c\\u102c\\u1038 \\u101b\\u1031\\u1038\\u1019\\u103e\\u1030\\u1038 \\u1025\\u102e\\u1038\\u1001\\u1004\\u103a\\u1019\\u1031\\u102c\\u1004\\u103a\\u1004\\u103a\\u1038\",\n          \"\\u1005\\u1000\\u103a \\u1015\\u103c\\u1004\\u103a\"\n        ],\n        \"semantic_type\": \"\",\n        \"description\": \"\"\n      }\n    },\n    {\n      \"column\": \"Category\",\n      \"properties\": {\n        \"dtype\": \"category\",\n        \"num_unique_values\": 1,\n        \"samples\": [\n          \"business\"\n        ],\n        \"semantic_type\": \"\",\n        \"description\": \"\"\n      }\n    },\n    {\n      \"column\": \"category_id\",\n      \"properties\": {\n        \"dtype\": \"number\",\n        \"std\": 0,\n        \"min\": 0,\n        \"max\": 0,\n        \"num_unique_values\": 1,\n        \"samples\": [\n          0\n        ],\n        \"semantic_type\": \"\",\n        \"description\": \"\"\n      }\n    }\n  ]\n}"
            }
          },
          "metadata": {},
          "execution_count": 13
        }
      ]
    },
    {
      "cell_type": "markdown",
      "source": [
        "### Saving Structured and Clean Dataset File."
      ],
      "metadata": {
        "id": "iOnCDy3j8j7B"
      }
    },
    {
      "cell_type": "code",
      "source": [
        "csv_file_path = '/content/preprocessed.csv'  # Change the path as needed\n",
        "data.to_csv(csv_file_path, index=False)"
      ],
      "metadata": {
        "id": "X_AjmOgB8cgI"
      },
      "execution_count": 14,
      "outputs": []
    },
    {
      "cell_type": "markdown",
      "source": [
        "## Applying Train Test Split for Model Training.\n",
        "\n",
        "- Splitted each and every categories equally with ratio of 80-20 Train and test.\n",
        "\n",
        "- This will be helpful when we want to feed the model with equal number of sample size from each category in order to perform equally better on each categories."
      ],
      "metadata": {
        "id": "Q-dM2f3A8uAO"
      }
    },
    {
      "cell_type": "code",
      "source": [
        "from sklearn.model_selection import train_test_split\n",
        "# Assuming your dataset has columns News,Category\n",
        "features = data['News']\n",
        "labels = data['Category']"
      ],
      "metadata": {
        "id": "cmRJOUEi8q-X"
      },
      "execution_count": 15,
      "outputs": []
    },
    {
      "cell_type": "code",
      "source": [
        "data.shape[0]"
      ],
      "metadata": {
        "colab": {
          "base_uri": "https://localhost:8080/"
        },
        "id": "hIBESbXa9cY7",
        "outputId": "2db2e5bb-97b9-48f7-a157-a645e69ab394"
      },
      "execution_count": 16,
      "outputs": [
        {
          "output_type": "execute_result",
          "data": {
            "text/plain": [
              "8464"
            ]
          },
          "metadata": {},
          "execution_count": 16
        }
      ]
    },
    {
      "cell_type": "code",
      "source": [
        "train_data_list = []\n",
        "test_data_list = []\n",
        "\n",
        "# Iterate over each unique class and split the data\n",
        "for category in labels.unique():\n",
        "    # Filter data for the current category\n",
        "    category_data = data[data['Category'] == category]\n",
        "\n",
        "    # Split the data into train and test sets (80% train, 20% test)\n",
        "    train_set, test_set = train_test_split(category_data, test_size=0.2, random_state=42)\n",
        "\n",
        "    # Append the train and test sets to the respective lists\n",
        "    train_data_list.append(train_set)\n",
        "    test_data_list.append(test_set)\n",
        "\n",
        "# Create DataFrames from the lists\n",
        "train_data = pd.concat(train_data_list, ignore_index=True)\n",
        "test_data = pd.concat(test_data_list, ignore_index=True)"
      ],
      "metadata": {
        "id": "ybEnEISV9erx"
      },
      "execution_count": 17,
      "outputs": []
    },
    {
      "cell_type": "code",
      "source": [
        "train_data.shape[0]"
      ],
      "metadata": {
        "colab": {
          "base_uri": "https://localhost:8080/"
        },
        "id": "-Vkyc6T99hgL",
        "outputId": "b361d921-a23a-4928-a5cc-a7c038e3b535"
      },
      "execution_count": 18,
      "outputs": [
        {
          "output_type": "execute_result",
          "data": {
            "text/plain": [
              "6769"
            ]
          },
          "metadata": {},
          "execution_count": 18
        }
      ]
    },
    {
      "cell_type": "code",
      "source": [
        "test_data.shape[0]"
      ],
      "metadata": {
        "colab": {
          "base_uri": "https://localhost:8080/"
        },
        "id": "xL-lEo_M9k5V",
        "outputId": "8982a593-6be1-43a2-d92f-d313785d795b"
      },
      "execution_count": 19,
      "outputs": [
        {
          "output_type": "execute_result",
          "data": {
            "text/plain": [
              "1695"
            ]
          },
          "metadata": {},
          "execution_count": 19
        }
      ]
    },
    {
      "cell_type": "markdown",
      "source": [
        "##  Assigning Train and Test Data for model training"
      ],
      "metadata": {
        "id": "DvxVznSJ9r7A"
      }
    },
    {
      "cell_type": "code",
      "source": [
        "# For Training\n",
        "\n",
        "train_data = train_data[[\"News\", \"Category\"]]\n",
        "\n",
        "X_train = np.array(train_data[\"News\"])\n",
        "y_train = np.array(train_data[\"Category\"])"
      ],
      "metadata": {
        "id": "2GHj-8fn9mqd"
      },
      "execution_count": 20,
      "outputs": []
    },
    {
      "cell_type": "code",
      "source": [
        "# For Testing\n",
        "\n",
        "test_data = test_data[[\"News\", \"Category\"]]\n",
        "\n",
        "X_test = np.array(test_data[\"News\"])\n",
        "y_test = np.array(test_data[\"Category\"])"
      ],
      "metadata": {
        "id": "jEzraCy-9wX7"
      },
      "execution_count": 21,
      "outputs": []
    },
    {
      "cell_type": "code",
      "source": [
        "X_train.shape"
      ],
      "metadata": {
        "colab": {
          "base_uri": "https://localhost:8080/"
        },
        "id": "7NghKXL59yLy",
        "outputId": "73f5c497-3704-44fd-9b57-bac5b54af42a"
      },
      "execution_count": 22,
      "outputs": [
        {
          "output_type": "execute_result",
          "data": {
            "text/plain": [
              "(6769,)"
            ]
          },
          "metadata": {},
          "execution_count": 22
        }
      ]
    },
    {
      "cell_type": "code",
      "source": [
        "X_test.shape"
      ],
      "metadata": {
        "colab": {
          "base_uri": "https://localhost:8080/"
        },
        "id": "-7VJxSMB90Ub",
        "outputId": "a12987bf-03fb-44c1-8d9d-f0b4bd808150"
      },
      "execution_count": 23,
      "outputs": [
        {
          "output_type": "execute_result",
          "data": {
            "text/plain": [
              "(1695,)"
            ]
          },
          "metadata": {},
          "execution_count": 23
        }
      ]
    },
    {
      "cell_type": "code",
      "source": [
        "y_train"
      ],
      "metadata": {
        "colab": {
          "base_uri": "https://localhost:8080/"
        },
        "id": "uABcyk4L92Nh",
        "outputId": "888e4126-24e7-4dd7-d70f-12dc7cb19602"
      },
      "execution_count": 24,
      "outputs": [
        {
          "output_type": "execute_result",
          "data": {
            "text/plain": [
              "array(['business', 'business', 'business', ..., 'politic', 'politic',\n",
              "       'politic'], dtype=object)"
            ]
          },
          "metadata": {},
          "execution_count": 24
        }
      ]
    },
    {
      "cell_type": "code",
      "source": [
        "y_test"
      ],
      "metadata": {
        "colab": {
          "base_uri": "https://localhost:8080/"
        },
        "id": "rNfKJJM793v3",
        "outputId": "ac5e8cd6-13cb-4cb0-a1dd-033582197dac"
      },
      "execution_count": 25,
      "outputs": [
        {
          "output_type": "execute_result",
          "data": {
            "text/plain": [
              "array(['business', 'business', 'business', ..., 'politic', 'politic',\n",
              "       'politic'], dtype=object)"
            ]
          },
          "metadata": {},
          "execution_count": 25
        }
      ]
    },
    {
      "cell_type": "markdown",
      "source": [
        "# Applying Vectorization"
      ],
      "metadata": {
        "id": "q8OMbolQ9-cg"
      }
    },
    {
      "cell_type": "code",
      "source": [
        "def tokenize(line):\n",
        "    sentence = pds.tokenize(line,form=\"word\")\n",
        "    return sentence\n",
        "\n",
        "\n",
        "tokenized_train_data = [tokenize(doc.lower()) for doc in X_train]\n",
        "\n",
        "# Train a Word2Vec model\n",
        "word2vec_model = Word2Vec(sentences=tokenized_train_data, vector_size=100, window=5, min_count=1, workers=4)\n",
        "\n",
        "# Function to vectorize a document\n",
        "def vectorize_document(document, model):\n",
        "    tokens = [token.lower() for token in tokenize(document)]\n",
        "    vectors = [model.wv[token] for token in tokens if token in model.wv.key_to_index]\n",
        "\n",
        "    if vectors:\n",
        "        vector = np.mean(vectors, axis=0)\n",
        "        return vector\n",
        "    else:\n",
        "        return np.zeros(model.vector_size)\n",
        "\n",
        "# Vectorize the training and testing data\n",
        "X_train_vec = [vectorize_document(doc, word2vec_model) for doc in X_train]\n",
        "X_test_vec = [vectorize_document(doc, word2vec_model) for doc in X_test]\n",
        "\n",
        "# Convert to numpy arrays\n",
        "X_train_vec = np.array(X_train_vec)\n",
        "X_test_vec = np.array(X_test_vec)\n",
        "\n",
        "# Convert vectors to non-negative values (required for MultinomialNB)\n",
        "X_train_vec_non_negative = X_train_vec - np.min(X_train_vec)\n",
        "X_test_vec_non_negative = X_test_vec - np.min(X_test_vec)\n",
        "\n",
        "\n",
        "# # Tokenize the text data\n",
        "# tokenized_data = [tokenize(doc.lower()) for doc in X_train]\n",
        "\n",
        "# # Train a Word2Vec model\n",
        "# word2vec_model = Word2Vec(sentences=tokenized_data, vector_size=100, window=5, min_count=1, workers=4)\n",
        "\n",
        "# # Function to vectorize a document\n",
        "# def vectorize_document(document, model):\n",
        "#     tokens = [token.lower() for token in word_tokenize(document)]\n",
        "#     vector = np.mean([model.wv[token] for token in tokens if token in model.wv.key_to_index], axis=0)\n",
        "#     return vector if vector is not None else np.zeros(model.vector_size)\n",
        "\n",
        "#\n",
        "# vectorizer = TfidfVectorizer(tokenizer=tokenize,ngram_range=(1,2))\n",
        "# # X_train = vectorizer.fit_transform(X_train)\n",
        "# # X_test = vectorizer.fit_transform(X_test)\n",
        "\n",
        "# X_train = vectorizer.fit_transform(X_train)  # Fit and transform on the training data\n",
        "# X_test = vectorizer.transform(X_test)  # Transform using the same vectorizer on the test data"
      ],
      "metadata": {
        "id": "OU28SsiW95x_"
      },
      "execution_count": 26,
      "outputs": []
    },
    {
      "cell_type": "markdown",
      "source": [
        "##Optimization"
      ],
      "metadata": {
        "id": "jqeJ1jl7C2gO"
      }
    },
    {
      "cell_type": "code",
      "source": [
        "# from sklearn.model_selection import train_test_split, GridSearchCV\n",
        "# from sklearn.pipeline import Pipeline\n",
        "# from sklearn.decomposition import TruncatedSVD\n",
        "# from sklearn.naive_bayes import MultinomialNB\n",
        "# from sklearn.metrics import accuracy_score, classification_report"
      ],
      "metadata": {
        "id": "nGmN7Jo8DDOj"
      },
      "execution_count": 27,
      "outputs": []
    },
    {
      "cell_type": "code",
      "source": [
        "# tokenized_train_data = [tokenize(doc.lower()) for doc in X_train]\n",
        "\n",
        "# # Define the Word2Vec model\n",
        "# word2vec_model = Word2Vec(vector_size=50, window=5, min_count=1, workers=4)\n",
        "\n",
        "# # Function to vectorize a document\n",
        "# def vectorize_document(document, model):\n",
        "#     tokens = [token.lower() for token in tokenize(document)]\n",
        "#     vectors = [model.wv[token] for token in tokens if token in model.wv.key_to_index]\n",
        "\n",
        "#     if vectors:\n",
        "#         vector = np.mean(vectors, axis=0)\n",
        "#         return vector\n",
        "#     else:\n",
        "#         return np.zeros(model.vector_size)\n",
        "\n",
        "# # Vectorize the training and testing data\n",
        "# X_train_vec = [vectorize_document(doc, word2vec_model) for doc in X_train]\n",
        "# X_test_vec = [vectorize_document(doc, word2vec_model) for doc in X_test]\n",
        "\n",
        "# # Convert to numpy arrays\n",
        "# X_train_vec = np.array(X_train_vec)\n",
        "# X_test_vec = np.array(X_test_vec)\n",
        "\n",
        "# # Convert vectors to non-negative values (required for MultinomialNB)\n",
        "# X_train_vec_non_negative = X_train_vec - np.min(X_train_vec)\n",
        "# X_test_vec_non_negative = X_test_vec - np.min(X_test_vec)\n",
        "\n",
        "# # Create a pipeline with a classifier (MultinomialNB in this case)\n",
        "# # and apply Truncated SVD (PCA) for dimensionality reduction\n",
        "# pipeline = Pipeline([\n",
        "#     ('reduce_dim', TruncatedSVD()),\n",
        "#     ('classify', MultinomialNB())\n",
        "# ])\n",
        "\n",
        "# # Define the parameter grid for the grid search\n",
        "# param_grid = {\n",
        "#     'reduce_dim__n_components': [50, 100, 200],  # Adjust based on your needs\n",
        "#     'classify__alpha': [0.1, 0.5, 1.0],\n",
        "# }\n",
        "\n",
        "# # Perform grid search\n",
        "# grid_search = GridSearchCV(pipeline, param_grid=param_grid, cv=3, scoring='accuracy', n_jobs=-1)\n",
        "# grid_search.fit(X_train_vec_non_negative, y_train)\n",
        "\n",
        "# # Print the best parameters and their corresponding accuracy\n",
        "# print(\"Best Parameters:\", grid_search.best_params_)\n",
        "# print(\"Best Accuracy:\", grid_search.best_score_)\n",
        "\n",
        "# # Use the best model to make predictions on the test set\n",
        "# best_model = grid_search.best_estimator_\n",
        "# y_pred = best_model.predict(X_test_vec_non_negative)\n",
        "\n",
        "# # Evaluate the classifier\n",
        "# accuracy = accuracy_score(y_test, y_pred)\n",
        "# report = classification_report(y_test, y_pred)\n",
        "\n",
        "# print(f\"Accuracy on Test Set: {accuracy}\")\n",
        "# print(\"Classification Report:\\n\", report)"
      ],
      "metadata": {
        "id": "wjsZWfCaC02M"
      },
      "execution_count": 28,
      "outputs": []
    },
    {
      "cell_type": "markdown",
      "source": [
        "When you use the fit_transform method on the training data with the TfidfVectorizer, it not only transforms the data but also learns the vocabulary and other parameters. When you later use the same vectorizer to transform the test data, it applies the same transformations and uses the vocabulary learned from the training data. This ensures that the dimensions (number of features) of the training and test data match."
      ],
      "metadata": {
        "id": "EHjPhvZ_-Ie6"
      }
    },
    {
      "cell_type": "code",
      "source": [
        "X_train_vec.shape"
      ],
      "metadata": {
        "colab": {
          "base_uri": "https://localhost:8080/"
        },
        "id": "V4s1gbuh-EOX",
        "outputId": "685a0c96-0ba1-4199-91b8-3c87aba02125"
      },
      "execution_count": 29,
      "outputs": [
        {
          "output_type": "execute_result",
          "data": {
            "text/plain": [
              "(6769, 100)"
            ]
          },
          "metadata": {},
          "execution_count": 29
        }
      ]
    },
    {
      "cell_type": "code",
      "source": [
        "X_test_vec.shape"
      ],
      "metadata": {
        "colab": {
          "base_uri": "https://localhost:8080/"
        },
        "id": "G-F3sTPQ-KUy",
        "outputId": "03f297e0-6a98-4a37-a89e-7586c2b210e4"
      },
      "execution_count": 30,
      "outputs": [
        {
          "output_type": "execute_result",
          "data": {
            "text/plain": [
              "(1695, 100)"
            ]
          },
          "metadata": {},
          "execution_count": 30
        }
      ]
    },
    {
      "cell_type": "code",
      "source": [
        "y_train.shape"
      ],
      "metadata": {
        "colab": {
          "base_uri": "https://localhost:8080/"
        },
        "id": "NWJnnZ3U-LtY",
        "outputId": "f143b798-1ab8-4002-f582-8483038bb142"
      },
      "execution_count": 31,
      "outputs": [
        {
          "output_type": "execute_result",
          "data": {
            "text/plain": [
              "(6769,)"
            ]
          },
          "metadata": {},
          "execution_count": 31
        }
      ]
    },
    {
      "cell_type": "code",
      "source": [
        "y_test.shape"
      ],
      "metadata": {
        "colab": {
          "base_uri": "https://localhost:8080/"
        },
        "id": "JskLdSCl-NSW",
        "outputId": "d238ca62-e55b-4028-801c-85edc3424452"
      },
      "execution_count": 32,
      "outputs": [
        {
          "output_type": "execute_result",
          "data": {
            "text/plain": [
              "(1695,)"
            ]
          },
          "metadata": {},
          "execution_count": 32
        }
      ]
    },
    {
      "cell_type": "code",
      "source": [
        "# X_train[0:5]"
      ],
      "metadata": {
        "id": "Qdlzweuk-PCV"
      },
      "execution_count": 33,
      "outputs": []
    },
    {
      "cell_type": "code",
      "source": [
        "# import pickle\n",
        "# pickle.dump(vectorizer, open(\"vectorizer.pickle\", \"wb\"))"
      ],
      "metadata": {
        "id": "9Durfpq9-RGK"
      },
      "execution_count": 34,
      "outputs": []
    },
    {
      "cell_type": "markdown",
      "source": [
        "# Training with Different Models"
      ],
      "metadata": {
        "id": "uXgFE_Ab-c7T"
      }
    },
    {
      "cell_type": "markdown",
      "source": [
        "### Naive Bayes"
      ],
      "metadata": {
        "id": "oRKk_LIj-j2I"
      }
    },
    {
      "cell_type": "code",
      "source": [
        "from sklearn.naive_bayes import MultinomialNB\n",
        "\n",
        "model = MultinomialNB()\n",
        "model.fit(X_train_vec_non_negative, y_train)"
      ],
      "metadata": {
        "colab": {
          "base_uri": "https://localhost:8080/",
          "height": 74
        },
        "id": "5JUlq_xG-cV5",
        "outputId": "d6053693-f531-416c-d0ed-717c79147fb0"
      },
      "execution_count": 35,
      "outputs": [
        {
          "output_type": "execute_result",
          "data": {
            "text/plain": [
              "MultinomialNB()"
            ],
            "text/html": [
              "<style>#sk-container-id-1 {color: black;background-color: white;}#sk-container-id-1 pre{padding: 0;}#sk-container-id-1 div.sk-toggleable {background-color: white;}#sk-container-id-1 label.sk-toggleable__label {cursor: pointer;display: block;width: 100%;margin-bottom: 0;padding: 0.3em;box-sizing: border-box;text-align: center;}#sk-container-id-1 label.sk-toggleable__label-arrow:before {content: \"▸\";float: left;margin-right: 0.25em;color: #696969;}#sk-container-id-1 label.sk-toggleable__label-arrow:hover:before {color: black;}#sk-container-id-1 div.sk-estimator:hover label.sk-toggleable__label-arrow:before {color: black;}#sk-container-id-1 div.sk-toggleable__content {max-height: 0;max-width: 0;overflow: hidden;text-align: left;background-color: #f0f8ff;}#sk-container-id-1 div.sk-toggleable__content pre {margin: 0.2em;color: black;border-radius: 0.25em;background-color: #f0f8ff;}#sk-container-id-1 input.sk-toggleable__control:checked~div.sk-toggleable__content {max-height: 200px;max-width: 100%;overflow: auto;}#sk-container-id-1 input.sk-toggleable__control:checked~label.sk-toggleable__label-arrow:before {content: \"▾\";}#sk-container-id-1 div.sk-estimator input.sk-toggleable__control:checked~label.sk-toggleable__label {background-color: #d4ebff;}#sk-container-id-1 div.sk-label input.sk-toggleable__control:checked~label.sk-toggleable__label {background-color: #d4ebff;}#sk-container-id-1 input.sk-hidden--visually {border: 0;clip: rect(1px 1px 1px 1px);clip: rect(1px, 1px, 1px, 1px);height: 1px;margin: -1px;overflow: hidden;padding: 0;position: absolute;width: 1px;}#sk-container-id-1 div.sk-estimator {font-family: monospace;background-color: #f0f8ff;border: 1px dotted black;border-radius: 0.25em;box-sizing: border-box;margin-bottom: 0.5em;}#sk-container-id-1 div.sk-estimator:hover {background-color: #d4ebff;}#sk-container-id-1 div.sk-parallel-item::after {content: \"\";width: 100%;border-bottom: 1px solid gray;flex-grow: 1;}#sk-container-id-1 div.sk-label:hover label.sk-toggleable__label {background-color: #d4ebff;}#sk-container-id-1 div.sk-serial::before {content: \"\";position: absolute;border-left: 1px solid gray;box-sizing: border-box;top: 0;bottom: 0;left: 50%;z-index: 0;}#sk-container-id-1 div.sk-serial {display: flex;flex-direction: column;align-items: center;background-color: white;padding-right: 0.2em;padding-left: 0.2em;position: relative;}#sk-container-id-1 div.sk-item {position: relative;z-index: 1;}#sk-container-id-1 div.sk-parallel {display: flex;align-items: stretch;justify-content: center;background-color: white;position: relative;}#sk-container-id-1 div.sk-item::before, #sk-container-id-1 div.sk-parallel-item::before {content: \"\";position: absolute;border-left: 1px solid gray;box-sizing: border-box;top: 0;bottom: 0;left: 50%;z-index: -1;}#sk-container-id-1 div.sk-parallel-item {display: flex;flex-direction: column;z-index: 1;position: relative;background-color: white;}#sk-container-id-1 div.sk-parallel-item:first-child::after {align-self: flex-end;width: 50%;}#sk-container-id-1 div.sk-parallel-item:last-child::after {align-self: flex-start;width: 50%;}#sk-container-id-1 div.sk-parallel-item:only-child::after {width: 0;}#sk-container-id-1 div.sk-dashed-wrapped {border: 1px dashed gray;margin: 0 0.4em 0.5em 0.4em;box-sizing: border-box;padding-bottom: 0.4em;background-color: white;}#sk-container-id-1 div.sk-label label {font-family: monospace;font-weight: bold;display: inline-block;line-height: 1.2em;}#sk-container-id-1 div.sk-label-container {text-align: center;}#sk-container-id-1 div.sk-container {/* jupyter's `normalize.less` sets `[hidden] { display: none; }` but bootstrap.min.css set `[hidden] { display: none !important; }` so we also need the `!important` here to be able to override the default hidden behavior on the sphinx rendered scikit-learn.org. See: https://github.com/scikit-learn/scikit-learn/issues/21755 */display: inline-block !important;position: relative;}#sk-container-id-1 div.sk-text-repr-fallback {display: none;}</style><div id=\"sk-container-id-1\" class=\"sk-top-container\"><div class=\"sk-text-repr-fallback\"><pre>MultinomialNB()</pre><b>In a Jupyter environment, please rerun this cell to show the HTML representation or trust the notebook. <br />On GitHub, the HTML representation is unable to render, please try loading this page with nbviewer.org.</b></div><div class=\"sk-container\" hidden><div class=\"sk-item\"><div class=\"sk-estimator sk-toggleable\"><input class=\"sk-toggleable__control sk-hidden--visually\" id=\"sk-estimator-id-1\" type=\"checkbox\" checked><label for=\"sk-estimator-id-1\" class=\"sk-toggleable__label sk-toggleable__label-arrow\">MultinomialNB</label><div class=\"sk-toggleable__content\"><pre>MultinomialNB()</pre></div></div></div></div></div>"
            ]
          },
          "metadata": {},
          "execution_count": 35
        }
      ]
    },
    {
      "cell_type": "code",
      "source": [
        "y_pred = model.predict(X_test_vec_non_negative)"
      ],
      "metadata": {
        "id": "rYT3ath9-X4p"
      },
      "execution_count": 36,
      "outputs": []
    },
    {
      "cell_type": "code",
      "source": [
        "# confusion matrix and accuracy\n",
        "\n",
        "from sklearn import metrics\n",
        "from sklearn.metrics import classification_report\n",
        "\n",
        "print(f\"Classification report for classifier {model}:\\n\"\n",
        "      f\"{metrics.classification_report(y_test, y_pred)}\\n\")"
      ],
      "metadata": {
        "colab": {
          "base_uri": "https://localhost:8080/"
        },
        "id": "A9cNJPsB_Vqy",
        "outputId": "2a1431d0-fcd5-4243-c499-0cb45d6cb0ee"
      },
      "execution_count": 37,
      "outputs": [
        {
          "output_type": "stream",
          "name": "stdout",
          "text": [
            "Classification report for classifier MultinomialNB():\n",
            "               precision    recall  f1-score   support\n",
            "\n",
            "     business       0.47      0.15      0.23       375\n",
            "        crime       0.00      0.00      0.00       359\n",
            "entertainment       0.33      0.79      0.47       522\n",
            "      politic       0.33      0.24      0.28       439\n",
            "\n",
            "     accuracy                           0.34      1695\n",
            "    macro avg       0.28      0.30      0.24      1695\n",
            " weighted avg       0.29      0.34      0.27      1695\n",
            "\n",
            "\n"
          ]
        },
        {
          "output_type": "stream",
          "name": "stderr",
          "text": [
            "/usr/local/lib/python3.10/dist-packages/sklearn/metrics/_classification.py:1344: UndefinedMetricWarning: Precision and F-score are ill-defined and being set to 0.0 in labels with no predicted samples. Use `zero_division` parameter to control this behavior.\n",
            "  _warn_prf(average, modifier, msg_start, len(result))\n",
            "/usr/local/lib/python3.10/dist-packages/sklearn/metrics/_classification.py:1344: UndefinedMetricWarning: Precision and F-score are ill-defined and being set to 0.0 in labels with no predicted samples. Use `zero_division` parameter to control this behavior.\n",
            "  _warn_prf(average, modifier, msg_start, len(result))\n",
            "/usr/local/lib/python3.10/dist-packages/sklearn/metrics/_classification.py:1344: UndefinedMetricWarning: Precision and F-score are ill-defined and being set to 0.0 in labels with no predicted samples. Use `zero_division` parameter to control this behavior.\n",
            "  _warn_prf(average, modifier, msg_start, len(result))\n"
          ]
        }
      ]
    },
    {
      "cell_type": "markdown",
      "source": [
        "### Linear SVM"
      ],
      "metadata": {
        "id": "vtg1r3Wx_e4w"
      }
    },
    {
      "cell_type": "code",
      "source": [
        "# Import classifiers and performance metrics\n",
        "from sklearn import svm, metrics\n",
        "\n",
        "# linear kernel model\n",
        "svm_model = svm.SVC(kernel='rbf')\n",
        "svm_model.fit(X_train_vec, y_train)\n",
        "\n",
        "# predict\n",
        "y_pred = svm_model.predict(X_test_vec)"
      ],
      "metadata": {
        "id": "9IZKZAqx_XqM"
      },
      "execution_count": 38,
      "outputs": []
    },
    {
      "cell_type": "code",
      "source": [
        "# confusion matrix and accuracy\n",
        "\n",
        "from sklearn import metrics\n",
        "from sklearn.metrics import classification_report\n",
        "\n",
        "print(f\"Classification report for classifier {svm_model}:\\n\"\n",
        "      f\"{metrics.classification_report(y_test, y_pred)}\\n\")"
      ],
      "metadata": {
        "colab": {
          "base_uri": "https://localhost:8080/"
        },
        "id": "Fwub-DPW_xJi",
        "outputId": "40689a9d-0f70-4566-929c-7d929c473307"
      },
      "execution_count": 39,
      "outputs": [
        {
          "output_type": "stream",
          "name": "stdout",
          "text": [
            "Classification report for classifier SVC():\n",
            "               precision    recall  f1-score   support\n",
            "\n",
            "     business       0.67      0.39      0.50       375\n",
            "        crime       0.60      0.02      0.03       359\n",
            "entertainment       0.44      0.75      0.55       522\n",
            "      politic       0.46      0.61      0.53       439\n",
            "\n",
            "     accuracy                           0.48      1695\n",
            "    macro avg       0.54      0.44      0.40      1695\n",
            " weighted avg       0.53      0.48      0.42      1695\n",
            "\n",
            "\n"
          ]
        }
      ]
    },
    {
      "cell_type": "code",
      "source": [
        "# Import classifiers and performance metrics\n",
        "from sklearn import svm, metrics\n",
        "\n",
        "# linear kernel model\n",
        "svm_model1 = svm.SVC(kernel='linear')\n",
        "svm_model1.fit(X_train_vec, y_train)\n",
        "\n",
        "# predict\n",
        "y_pred = svm_model1.predict(X_test_vec)"
      ],
      "metadata": {
        "id": "P6HJw7Hw3nY5"
      },
      "execution_count": 40,
      "outputs": []
    },
    {
      "cell_type": "code",
      "source": [
        "# confusion matrix and accuracy\n",
        "\n",
        "from sklearn import metrics\n",
        "from sklearn.metrics import classification_report\n",
        "\n",
        "print(f\"Classification report for classifier {svm_model1}:\\n\"\n",
        "      f\"{metrics.classification_report(y_test, y_pred)}\\n\")"
      ],
      "metadata": {
        "colab": {
          "base_uri": "https://localhost:8080/"
        },
        "id": "J5cXCefJ3qjS",
        "outputId": "201694f6-d35e-41d8-c794-d452a2ad8c87"
      },
      "execution_count": 41,
      "outputs": [
        {
          "output_type": "stream",
          "name": "stdout",
          "text": [
            "Classification report for classifier SVC(kernel='linear'):\n",
            "               precision    recall  f1-score   support\n",
            "\n",
            "     business       0.66      0.45      0.53       375\n",
            "        crime       0.67      0.16      0.26       359\n",
            "entertainment       0.46      0.84      0.60       522\n",
            "      politic       0.61      0.57      0.59       439\n",
            "\n",
            "     accuracy                           0.54      1695\n",
            "    macro avg       0.60      0.50      0.49      1695\n",
            " weighted avg       0.59      0.54      0.51      1695\n",
            "\n",
            "\n"
          ]
        }
      ]
    },
    {
      "cell_type": "markdown",
      "source": [
        "### Random Forest"
      ],
      "metadata": {
        "id": "jXuRTEUd_7mo"
      }
    },
    {
      "cell_type": "code",
      "source": [
        "from sklearn.ensemble import RandomForestClassifier\n",
        "\n",
        "# Random forest classifier\n",
        "rf_model = RandomForestClassifier(n_estimators=100, n_jobs=1)\n",
        "rf_model.fit(X_train_vec, y_train)\n",
        "\n",
        "# predict\n",
        "y_pred = rf_model.predict(X_test_vec)"
      ],
      "metadata": {
        "id": "Lri8o4Ak_z_t"
      },
      "execution_count": 42,
      "outputs": []
    },
    {
      "cell_type": "code",
      "source": [
        "# confusion matrix and accuracy\n",
        "from sklearn import metrics\n",
        "from sklearn.metrics import classification_report\n",
        "\n",
        "print(f\"Classification report for classifier {rf_model}:\\n\"\n",
        "      f\"{metrics.classification_report(y_test, y_pred)}\\n\")"
      ],
      "metadata": {
        "colab": {
          "base_uri": "https://localhost:8080/"
        },
        "id": "Bk76z4uF__lA",
        "outputId": "4fc8fb79-7175-4334-c9b4-ead3435ae575"
      },
      "execution_count": 43,
      "outputs": [
        {
          "output_type": "stream",
          "name": "stdout",
          "text": [
            "Classification report for classifier RandomForestClassifier(n_jobs=1):\n",
            "               precision    recall  f1-score   support\n",
            "\n",
            "     business       0.68      0.61      0.64       375\n",
            "        crime       0.57      0.51      0.53       359\n",
            "entertainment       0.57      0.68      0.62       522\n",
            "      politic       0.62      0.59      0.61       439\n",
            "\n",
            "     accuracy                           0.60      1695\n",
            "    macro avg       0.61      0.60      0.60      1695\n",
            " weighted avg       0.61      0.60      0.60      1695\n",
            "\n",
            "\n"
          ]
        }
      ]
    },
    {
      "cell_type": "markdown",
      "source": [
        "### Decision Tree"
      ],
      "metadata": {
        "id": "pWbazDknAGnJ"
      }
    },
    {
      "cell_type": "code",
      "source": [
        "from sklearn.tree import DecisionTreeClassifier\n",
        "\n",
        "dt_model = DecisionTreeClassifier(random_state=0)\n",
        "dt_model.fit(X_train_vec, y_train)\n",
        "\n",
        "# predict\n",
        "y_pred = dt_model.predict(X_test_vec)"
      ],
      "metadata": {
        "id": "MBIW_HICAFih"
      },
      "execution_count": 44,
      "outputs": []
    },
    {
      "cell_type": "code",
      "source": [
        "# confusion matrix and accuracy\n",
        "\n",
        "from sklearn import metrics\n",
        "from sklearn.metrics import classification_report\n",
        "\n",
        "print(f\"Classification report for classifier {dt_model}:\\n\"\n",
        "      f\"{metrics.classification_report(y_test, y_pred)}\\n\")"
      ],
      "metadata": {
        "colab": {
          "base_uri": "https://localhost:8080/"
        },
        "id": "_zvUAYbYAMTI",
        "outputId": "72aabcc2-f52b-4a43-abf7-f6661793c9a7"
      },
      "execution_count": 45,
      "outputs": [
        {
          "output_type": "stream",
          "name": "stdout",
          "text": [
            "Classification report for classifier DecisionTreeClassifier(random_state=0):\n",
            "               precision    recall  f1-score   support\n",
            "\n",
            "     business       0.53      0.51      0.52       375\n",
            "        crime       0.38      0.43      0.41       359\n",
            "entertainment       0.53      0.48      0.50       522\n",
            "      politic       0.51      0.53      0.52       439\n",
            "\n",
            "     accuracy                           0.49      1695\n",
            "    macro avg       0.49      0.49      0.49      1695\n",
            " weighted avg       0.49      0.49      0.49      1695\n",
            "\n",
            "\n"
          ]
        }
      ]
    },
    {
      "cell_type": "markdown",
      "source": [
        "### KNN"
      ],
      "metadata": {
        "id": "RDzUMy2MASaI"
      }
    },
    {
      "cell_type": "code",
      "source": [
        "from sklearn.neighbors import KNeighborsClassifier\n",
        "error = []\n",
        "best_k = dict()\n",
        "\n",
        "# Calculating error for K values between 1 and 20\n",
        "for i in range(1, 20):\n",
        "    knn = KNeighborsClassifier(n_neighbors=i, n_jobs=-1)\n",
        "    knn.fit(X_train_vec, y_train)\n",
        "    pred_i = knn.predict(X_test_vec)\n",
        "    error.append(np.mean(pred_i != y_test))\n",
        "    best_k[i] = np.mean(pred_i != y_test)\n",
        "\n",
        "best_k = sorted(best_k.items(), key=lambda k: k[1])[0][0]\n",
        "knn_classifier = KNeighborsClassifier(n_neighbors=best_k, n_jobs=-1)\n",
        "knn_classifier.fit(X_train_vec, y_train)\n",
        "y_pred = knn_classifier.predict(X_test_vec)"
      ],
      "metadata": {
        "id": "2lHOJ3SlAPAs"
      },
      "execution_count": 46,
      "outputs": []
    },
    {
      "cell_type": "code",
      "source": [
        "import matplotlib.pyplot as plt\n",
        "\n",
        "plt.figure(figsize=(12, 6))\n",
        "plt.plot(range(1, 20), error, color='red', linestyle='dashdot', marker='o',markerfacecolor='green', markersize=10)\n",
        "plt.title('Error Rate K Value')\n",
        "plt.xlabel('K Value')\n",
        "plt.ylabel('Mean Error')\n",
        "plt.show()"
      ],
      "metadata": {
        "colab": {
          "base_uri": "https://localhost:8080/",
          "height": 564
        },
        "id": "tBCwdNFOAXMP",
        "outputId": "ac0d19fc-2bd3-440d-cd3d-ccef42a9f467"
      },
      "execution_count": 47,
      "outputs": [
        {
          "output_type": "display_data",
          "data": {
            "text/plain": [
              "<Figure size 1200x600 with 1 Axes>"
            ],
            "image/png": "[encoded data removed]"
          },
          "metadata": {}
        }
      ]
    },
    {
      "cell_type": "code",
      "source": [
        "# confusion matrix and accuracy\n",
        "\n",
        "from sklearn import metrics\n",
        "from sklearn.metrics import classification_report\n",
        "\n",
        "print(f\"Classification report for classifier {knn_classifier}:\\n\"\n",
        "      f\"{metrics.classification_report(y_test, y_pred)}\\n\")"
      ],
      "metadata": {
        "colab": {
          "base_uri": "https://localhost:8080/"
        },
        "id": "af8xsoh7Ah-O",
        "outputId": "d6c73135-df72-4497-bf26-b5cd2f9c6f60"
      },
      "execution_count": 48,
      "outputs": [
        {
          "output_type": "stream",
          "name": "stdout",
          "text": [
            "Classification report for classifier KNeighborsClassifier(n_jobs=-1, n_neighbors=12):\n",
            "               precision    recall  f1-score   support\n",
            "\n",
            "     business       0.62      0.61      0.61       375\n",
            "        crime       0.46      0.50      0.48       359\n",
            "entertainment       0.56      0.60      0.58       522\n",
            "      politic       0.62      0.52      0.57       439\n",
            "\n",
            "     accuracy                           0.56      1695\n",
            "    macro avg       0.56      0.56      0.56      1695\n",
            " weighted avg       0.57      0.56      0.56      1695\n",
            "\n",
            "\n"
          ]
        }
      ]
    },
    {
      "cell_type": "markdown",
      "source": [
        "# Evaluating Features"
      ],
      "metadata": {
        "id": "vlqmBf-iAtm4"
      }
    },
    {
      "cell_type": "code",
      "source": [
        "# feature_names = vectorizer.get_feature_names_out()\n",
        "# for i in feature_names:\n",
        "#   print(i)"
      ],
      "metadata": {
        "id": "b1T8k8iGAkfG"
      },
      "execution_count": 49,
      "outputs": []
    },
    {
      "cell_type": "markdown",
      "source": [
        "# Loading Best Model"
      ],
      "metadata": {
        "id": "nhVX4ZvKA1x4"
      }
    },
    {
      "cell_type": "code",
      "source": [
        "# save the model to disk\n",
        "import pickle\n",
        "from sklearn.pipeline import make_pipeline\n",
        "\n",
        "filename = 'svm_model.sav'\n",
        "pickle.dump(svm_model, open(filename, 'wb'))\n",
        "\n",
        "# load the model from disk\n",
        "loaded_model = pickle.load(open(filename, 'rb'))"
      ],
      "metadata": {
        "id": "U71n1DYMAx6J"
      },
      "execution_count": 50,
      "outputs": []
    },
    {
      "cell_type": "code",
      "source": [
        "line = \"ဒီကနေ့ ဒီဇင်ဘာလ ၂၁ ရက်နေ့ နေ့လယ်ပိုင်းမှာလည်း ရေဦးနဲ့ တန့်ဆည်မြို့နယ် နယ်နမိတ်ထိစပ်နေတဲ့နေရာနားက လိပ်ခြံရွာက ပီဒီအက်ဖ်စခန်းတွေလို့ ယူဆတဲ့နေရာတွေကို စစ်ကောင်စီတပ်ရဲ့ ရဟတ်ယာဉ်တွေက ပစ်ခတ်တာတွေ ဆက်လုပ်ခဲ့တယ်လို့ ဒေသခံတွေထံက သိရပါတယ်။\""
      ],
      "metadata": {
        "id": "5FeMPlqUA-AT"
      },
      "execution_count": 51,
      "outputs": []
    },
    {
      "cell_type": "code",
      "source": [
        "tokenize(line)\n",
        "#\"ဒီကနေ့ ဒီဇင်ဘာလ ၂၁ ရက်နေ့ နေ့လယ်ပိုင်းမှာလည်း ရေဦးနဲ့ တန့်ဆည်မြို့နယ် နယ်နမိတ်ထိစပ်နေတဲ့နေရာနားက လိပ်ခြံရွာက ပီဒီအက်ဖ်စခန်းတွေလို့ ယူဆတဲ့နေရာတွေကို\n",
        "# စစ်ကောင်စီတပ်ရဲ့ ရဟတ်ယာဉ်တွေက ပစ်ခတ်တာတွေ ဆက်လုပ်ခဲ့တယ်လို့ ဒေသခံတွေထံက သိရပါတယ်။\""
      ],
      "metadata": {
        "id": "KVLPoANhBAft",
        "colab": {
          "base_uri": "https://localhost:8080/"
        },
        "outputId": "a630eda8-9951-41e2-8afb-11f0f88ca49f"
      },
      "execution_count": 52,
      "outputs": [
        {
          "output_type": "execute_result",
          "data": {
            "text/plain": [
              "['ဒီ',\n",
              " 'က',\n",
              " 'နေ့',\n",
              " 'ဒီဇင်ဘာ',\n",
              " 'လ',\n",
              " '၂၁',\n",
              " 'ရက်နေ့',\n",
              " 'နေ့လယ်',\n",
              " 'ပိုင်း',\n",
              " 'မှာ',\n",
              " 'လည်း',\n",
              " 'ရေဦး',\n",
              " 'နဲ့',\n",
              " 'တန့်ဆည်',\n",
              " 'မြို့နယ်',\n",
              " 'နယ်နမိတ်',\n",
              " 'ထိစပ်',\n",
              " 'နေ',\n",
              " 'တဲ့',\n",
              " 'နေရာ',\n",
              " 'နားကလိပ်ခြံ',\n",
              " 'ရွာ',\n",
              " 'က',\n",
              " 'ပီဒီအက်ဖ်စခန်း',\n",
              " 'တွေ',\n",
              " 'လို့',\n",
              " 'ယူဆ',\n",
              " 'တဲ့',\n",
              " 'နေရာ',\n",
              " 'တွေ',\n",
              " 'ကို',\n",
              " 'စစ်ကောင်စီ',\n",
              " 'တပ်',\n",
              " 'ရဲ့',\n",
              " 'ရဟတ်ယာဉ်',\n",
              " 'တွေ',\n",
              " 'က',\n",
              " 'ပစ်ခတ်',\n",
              " 'တာ',\n",
              " 'တွေ',\n",
              " 'ဆက်လုပ်',\n",
              " 'ခဲ့',\n",
              " 'တယ်',\n",
              " 'လို့',\n",
              " 'ဒေသခံ',\n",
              " 'တွေ',\n",
              " 'ထံ',\n",
              " 'က',\n",
              " 'သိရ',\n",
              " 'ပါ',\n",
              " 'တယ်',\n",
              " '။']"
            ]
          },
          "metadata": {},
          "execution_count": 52
        }
      ]
    },
    {
      "cell_type": "markdown",
      "source": [
        "# Prediction"
      ],
      "metadata": {
        "id": "fqLH5ajAB-wo"
      }
    },
    {
      "cell_type": "code",
      "source": [
        "#CleanPattern = re.compile(r'\\d+|[၊။!-/:_\\'’\"”■—[-`{-~\\t ]|[A-Za-z0-9]')\n",
        "CleanPattern = re.compile(r'\\d+|[၊။!-/:_\\'’\"”■—[-`{-~\\t ]')\n",
        "def clean_sentence(sentence):\n",
        "    sent = CleanPattern.sub(\" \", str(sentence))\n",
        "    return sent\n",
        "\n",
        "def stop_word(sentence):\n",
        "    new_sentence = []\n",
        "    for word in sentence.split():\n",
        "        if word not in stopwordslist:\n",
        "            new_sentence.append(word)\n",
        "    return ' '.join(new_sentence)\n",
        "\n",
        "def tokenize(line):\n",
        "    line = clean_sentence(line)\n",
        "    sentence = pds.tokenize(line, form=\"word\")\n",
        "    sentence = ' '.join([str(elem) for elem in sentence])\n",
        "    sentence = stop_word(sentence)\n",
        "    return sentence"
      ],
      "metadata": {
        "id": "PWhodChpDLG4"
      },
      "execution_count": 53,
      "outputs": []
    },
    {
      "cell_type": "code",
      "source": [
        "# user = input(\"Enter a Text: \")\n",
        "# user = tokenize(user)\n",
        "# data = vectorizer.transform([user]).toarray()\n",
        "# output = loaded_model.predict(data)\n",
        "# print(output)"
      ],
      "metadata": {
        "id": "DbZ9sXk3B1Dy"
      },
      "execution_count": 54,
      "outputs": []
    },
    {
      "cell_type": "code",
      "source": [
        "# user = input(\"Enter a Text: \")\n",
        "# user = tokenize(user)\n",
        "# data = vectorizer.transform([user]).toarray()\n",
        "# output = loaded_model.predict(data)\n",
        "# print(output)"
      ],
      "metadata": {
        "id": "Xs14w0VqCPOZ"
      },
      "execution_count": 55,
      "outputs": []
    },
    {
      "cell_type": "code",
      "source": [
        "# user = input(\"Enter a Text: \")\n",
        "# user = tokenize(user)\n",
        "# data = vectorizer.transform([user]).toarray()\n",
        "# output = loaded_model.predict(data)\n",
        "# print(output)"
      ],
      "metadata": {
        "id": "foffGhfIE6UA"
      },
      "execution_count": 56,
      "outputs": []
    },
    {
      "cell_type": "code",
      "source": [
        "# user = input(\"Enter a Text: \")\n",
        "# user = tokenize(user)\n",
        "# data = vectorizer.transform([user]).toarray()\n",
        "# output = loaded_model.predict(data)\n",
        "# print(output)"
      ],
      "metadata": {
        "id": "NAmWz4dbFBY6"
      },
      "execution_count": 57,
      "outputs": []
    },
    {
      "cell_type": "code",
      "source": [
        "# user = input(\"Enter a Text: \")\n",
        "# user = tokenize(user)\n",
        "# data = vectorize_document(user, word2vec_model)\n",
        "# output = loaded_model.predict(data)\n",
        "# print(output)"
      ],
      "metadata": {
        "id": "xfI6O2NdFB0D"
      },
      "execution_count": 61,
      "outputs": []
    },
    {
      "cell_type": "code",
      "source": [],
      "metadata": {
        "id": "KiPBL6unFEwx"
      },
      "execution_count": 61,
      "outputs": []
    },
    {
      "cell_type": "markdown",
      "source": [
        "# End of the Topic Classification"
      ],
      "metadata": {
        "id": "RmqGcuWQFVlY"
      }
    },
    {
      "cell_type": "markdown",
      "source": [
        "---"
      ],
      "metadata": {
        "id": "tcOktg5cFahg"
      }
    }
  ]
}